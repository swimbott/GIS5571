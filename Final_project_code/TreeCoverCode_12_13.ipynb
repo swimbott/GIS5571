{
 "cells": [
  {
   "cell_type": "code",
   "execution_count": 1,
   "metadata": {},
   "outputs": [],
   "source": [
    "import requests\n",
    "import pandas as pd\n",
    "import geopandas as gpd\n",
    "import requests\n",
    "import zipfile\n",
    "import io\n",
    "import csv\n",
    "import urllib, subprocess\n",
    "import json\n",
    "from io import BytesIO, StringIO"
   ]
  },
  {
   "cell_type": "markdown",
   "metadata": {},
   "source": [
    "# Three phases: 1: bring in data. 2: Prepare data for analysis. 3: Determine number of trees to plant per census tract"
   ]
  },
  {
   "cell_type": "markdown",
   "metadata": {},
   "source": [
    "### There are 6 \"sets\" of data that will be brought in for this project\n",
    "### ACS data (7 parameters): Hispanic population, Black population, households with income below the poverty level,\n",
    "### Seniors (>62 years old), young children (<5 years old), people who commute by bus, people who walk to work\n",
    "### Landsat 8 to convert to land surface temperature\n",
    "### PM 2.5 air quality data\n",
    "### Average annual daily traffic\n",
    "### Tree canopy coverage\n",
    "### MKE census tracts to be used as the study extent"
   ]
  },
  {
   "cell_type": "markdown",
   "metadata": {},
   "source": [
    "# Phase 1: Bring in all data sources"
   ]
  },
  {
   "cell_type": "markdown",
   "metadata": {},
   "source": [
    "## process to bring in ACS Data"
   ]
  },
  {
   "cell_type": "code",
   "execution_count": 2,
   "metadata": {},
   "outputs": [],
   "source": [
    "# start of process to bring in acs data. Had to make two api requests as household income below poverty level in a seperate api call\n",
    "pd.options.display.max_columns = None # show all columns in display\n",
    "\n",
    "def json_to_dataframe(response): # create function to convert from json to dataframe\n",
    "    \"\"\"\n",
    "    Convert response to dataframe\n",
    "    \"\"\"\n",
    "    return pd.DataFrame(response.json()[1:], columns=response.json()[0])"
   ]
  },
  {
   "cell_type": "code",
   "execution_count": 3,
   "metadata": {},
   "outputs": [],
   "source": [
    "# creating workspace\n",
    "workspace = arcpy.env.workspace = r'C:\\Users\\swimb\\Documents\\UMN\\fall2022\\GIS5571\\mketreecover\\mketrecover\\mketrecover.gdb'\n",
    "working_dir = r'C:\\Users\\swimb\\Documents\\UMN\\fall2022\\GIS5571\\mketreecover\\mketrecover\\mketrecover.gdb'"
   ]
  },
  {
   "cell_type": "code",
   "execution_count": 4,
   "metadata": {},
   "outputs": [],
   "source": [
    "# define census data source and where to fetch csv data\n",
    "# census_url has all acs variables except for households in poverty\n",
    "census_url = r\"https://api.census.gov/data/2020/acs/acs5/profile?get=NAME,DP03_0062E,DP05_0024E,DP05_0005E,DP05_0071E,DP05_0038E,DP03_0021E,DP03_0022E&for=tract&in=state:55%20county:079\"\n",
    "\n",
    "# households in poverty url\n",
    "house_url = r\"https://api.census.gov/data/2021/acs/acs5?get=B05010_002E&for=tract&in=state:55%20county:079\""
   ]
  },
  {
   "cell_type": "code",
   "execution_count": 5,
   "metadata": {},
   "outputs": [
    {
     "data": {
      "text/plain": [
       "<bound method Response.json of <Response [200]>>"
      ]
     },
     "execution_count": 5,
     "metadata": {},
     "output_type": "execute_result"
    }
   ],
   "source": [
    "# bring in data\n",
    "census_response = requests.get(census_url)\n",
    "census_response.json\n",
    "\n",
    "house_response = requests.get(house_url)\n",
    "house_response.json"
   ]
  },
  {
   "cell_type": "code",
   "execution_count": 7,
   "metadata": {},
   "outputs": [
    {
     "data": {
      "text/html": [
       "<div>\n",
       "<style scoped>\n",
       "    .dataframe tbody tr th:only-of-type {\n",
       "        vertical-align: middle;\n",
       "    }\n",
       "\n",
       "    .dataframe tbody tr th {\n",
       "        vertical-align: top;\n",
       "    }\n",
       "\n",
       "    .dataframe thead th {\n",
       "        text-align: right;\n",
       "    }\n",
       "</style>\n",
       "<table border=\"1\" class=\"dataframe\">\n",
       "  <thead>\n",
       "    <tr style=\"text-align: right;\">\n",
       "      <th></th>\n",
       "      <th>NAME</th>\n",
       "      <th>DP03_0062E</th>\n",
       "      <th>DP05_0024E</th>\n",
       "      <th>DP05_0005E</th>\n",
       "      <th>DP05_0071E</th>\n",
       "      <th>DP05_0038E</th>\n",
       "      <th>DP03_0021E</th>\n",
       "      <th>DP03_0022E</th>\n",
       "      <th>state</th>\n",
       "      <th>county</th>\n",
       "      <th>tract</th>\n",
       "    </tr>\n",
       "  </thead>\n",
       "  <tbody>\n",
       "    <tr>\n",
       "      <th>0</th>\n",
       "      <td>Census Tract 1.01, Milwaukee County, Wisconsin</td>\n",
       "      <td>30708</td>\n",
       "      <td>709</td>\n",
       "      <td>260</td>\n",
       "      <td>169</td>\n",
       "      <td>3819</td>\n",
       "      <td>173</td>\n",
       "      <td>43</td>\n",
       "      <td>55</td>\n",
       "      <td>079</td>\n",
       "      <td>101</td>\n",
       "    </tr>\n",
       "    <tr>\n",
       "      <th>1</th>\n",
       "      <td>Census Tract 1.02, Milwaukee County, Wisconsin</td>\n",
       "      <td>43487</td>\n",
       "      <td>612</td>\n",
       "      <td>183</td>\n",
       "      <td>331</td>\n",
       "      <td>1902</td>\n",
       "      <td>84</td>\n",
       "      <td>7</td>\n",
       "      <td>55</td>\n",
       "      <td>079</td>\n",
       "      <td>102</td>\n",
       "    </tr>\n",
       "    <tr>\n",
       "      <th>2</th>\n",
       "      <td>Census Tract 2.01, Milwaukee County, Wisconsin</td>\n",
       "      <td>33451</td>\n",
       "      <td>348</td>\n",
       "      <td>638</td>\n",
       "      <td>728</td>\n",
       "      <td>3358</td>\n",
       "      <td>92</td>\n",
       "      <td>72</td>\n",
       "      <td>55</td>\n",
       "      <td>079</td>\n",
       "      <td>201</td>\n",
       "    </tr>\n",
       "    <tr>\n",
       "      <th>3</th>\n",
       "      <td>Census Tract 2.02, Milwaukee County, Wisconsin</td>\n",
       "      <td>68576</td>\n",
       "      <td>576</td>\n",
       "      <td>809</td>\n",
       "      <td>228</td>\n",
       "      <td>3820</td>\n",
       "      <td>0</td>\n",
       "      <td>0</td>\n",
       "      <td>55</td>\n",
       "      <td>079</td>\n",
       "      <td>202</td>\n",
       "    </tr>\n",
       "    <tr>\n",
       "      <th>4</th>\n",
       "      <td>Census Tract 3.01, Milwaukee County, Wisconsin</td>\n",
       "      <td>69833</td>\n",
       "      <td>251</td>\n",
       "      <td>83</td>\n",
       "      <td>63</td>\n",
       "      <td>111</td>\n",
       "      <td>0</td>\n",
       "      <td>3</td>\n",
       "      <td>55</td>\n",
       "      <td>079</td>\n",
       "      <td>301</td>\n",
       "    </tr>\n",
       "  </tbody>\n",
       "</table>\n",
       "</div>"
      ],
      "text/plain": [
       "                                             NAME DP03_0062E DP05_0024E  \\\n",
       "0  Census Tract 1.01, Milwaukee County, Wisconsin      30708        709   \n",
       "1  Census Tract 1.02, Milwaukee County, Wisconsin      43487        612   \n",
       "2  Census Tract 2.01, Milwaukee County, Wisconsin      33451        348   \n",
       "3  Census Tract 2.02, Milwaukee County, Wisconsin      68576        576   \n",
       "4  Census Tract 3.01, Milwaukee County, Wisconsin      69833        251   \n",
       "\n",
       "  DP05_0005E DP05_0071E DP05_0038E DP03_0021E DP03_0022E state county tract  \n",
       "0        260        169       3819        173         43    55    079   101  \n",
       "1        183        331       1902         84          7    55    079   102  \n",
       "2        638        728       3358         92         72    55    079   201  \n",
       "3        809        228       3820          0          0    55    079   202  \n",
       "4         83         63        111          0          3    55    079   301  "
      ]
     },
     "execution_count": 7,
     "metadata": {},
     "output_type": "execute_result"
    }
   ],
   "source": [
    "# this is all acs data minus median household income\n",
    "mke_acs_data = json_to_dataframe(census_response)\n",
    "mke_acs_data['tract'] = mke_acs_data['tract'].str.lstrip('0') # need to remove leading zeros from tracts so I can join future data to this\n",
    "mke_acs_data.head(5)"
   ]
  },
  {
   "cell_type": "code",
   "execution_count": 8,
   "metadata": {},
   "outputs": [
    {
     "data": {
      "text/html": [
       "<div>\n",
       "<style scoped>\n",
       "    .dataframe tbody tr th:only-of-type {\n",
       "        vertical-align: middle;\n",
       "    }\n",
       "\n",
       "    .dataframe tbody tr th {\n",
       "        vertical-align: top;\n",
       "    }\n",
       "\n",
       "    .dataframe thead th {\n",
       "        text-align: right;\n",
       "    }\n",
       "</style>\n",
       "<table border=\"1\" class=\"dataframe\">\n",
       "  <thead>\n",
       "    <tr style=\"text-align: right;\">\n",
       "      <th></th>\n",
       "      <th>B05010_002E</th>\n",
       "      <th>state</th>\n",
       "      <th>county</th>\n",
       "      <th>tract</th>\n",
       "    </tr>\n",
       "  </thead>\n",
       "  <tbody>\n",
       "    <tr>\n",
       "      <th>0</th>\n",
       "      <td>714</td>\n",
       "      <td>55</td>\n",
       "      <td>079</td>\n",
       "      <td>101</td>\n",
       "    </tr>\n",
       "    <tr>\n",
       "      <th>1</th>\n",
       "      <td>59</td>\n",
       "      <td>55</td>\n",
       "      <td>079</td>\n",
       "      <td>102</td>\n",
       "    </tr>\n",
       "    <tr>\n",
       "      <th>2</th>\n",
       "      <td>1043</td>\n",
       "      <td>55</td>\n",
       "      <td>079</td>\n",
       "      <td>201</td>\n",
       "    </tr>\n",
       "    <tr>\n",
       "      <th>3</th>\n",
       "      <td>251</td>\n",
       "      <td>55</td>\n",
       "      <td>079</td>\n",
       "      <td>202</td>\n",
       "    </tr>\n",
       "    <tr>\n",
       "      <th>4</th>\n",
       "      <td>3</td>\n",
       "      <td>55</td>\n",
       "      <td>079</td>\n",
       "      <td>301</td>\n",
       "    </tr>\n",
       "  </tbody>\n",
       "</table>\n",
       "</div>"
      ],
      "text/plain": [
       "  B05010_002E state county tract\n",
       "0         714    55    079   101\n",
       "1          59    55    079   102\n",
       "2        1043    55    079   201\n",
       "3         251    55    079   202\n",
       "4           3    55    079   301"
      ]
     },
     "execution_count": 8,
     "metadata": {},
     "output_type": "execute_result"
    }
   ],
   "source": [
    "# bring in median household income data\n",
    "house_acs_data = json_to_dataframe(house_response)\n",
    "house_acs_data['tract'] = mke_acs_data['tract'].str.lstrip('0') # need to remove leading zeros from tracts so I can join future data to this\n",
    "house_acs_data.head()"
   ]
  },
  {
   "cell_type": "code",
   "execution_count": 9,
   "metadata": {},
   "outputs": [
    {
     "data": {
      "text/html": [
       "<div>\n",
       "<style scoped>\n",
       "    .dataframe tbody tr th:only-of-type {\n",
       "        vertical-align: middle;\n",
       "    }\n",
       "\n",
       "    .dataframe tbody tr th {\n",
       "        vertical-align: top;\n",
       "    }\n",
       "\n",
       "    .dataframe thead th {\n",
       "        text-align: right;\n",
       "    }\n",
       "</style>\n",
       "<table border=\"1\" class=\"dataframe\">\n",
       "  <thead>\n",
       "    <tr style=\"text-align: right;\">\n",
       "      <th></th>\n",
       "      <th>NAME</th>\n",
       "      <th>DP03_0062E</th>\n",
       "      <th>DP05_0024E</th>\n",
       "      <th>DP05_0005E</th>\n",
       "      <th>DP05_0071E</th>\n",
       "      <th>DP05_0038E</th>\n",
       "      <th>DP03_0021E</th>\n",
       "      <th>DP03_0022E</th>\n",
       "      <th>state_x</th>\n",
       "      <th>county_x</th>\n",
       "      <th>tract</th>\n",
       "      <th>B05010_002E</th>\n",
       "      <th>state_y</th>\n",
       "      <th>county_y</th>\n",
       "    </tr>\n",
       "  </thead>\n",
       "  <tbody>\n",
       "    <tr>\n",
       "      <th>0</th>\n",
       "      <td>Census Tract 1.01, Milwaukee County, Wisconsin</td>\n",
       "      <td>30708</td>\n",
       "      <td>709</td>\n",
       "      <td>260</td>\n",
       "      <td>169</td>\n",
       "      <td>3819</td>\n",
       "      <td>173</td>\n",
       "      <td>43</td>\n",
       "      <td>55</td>\n",
       "      <td>079</td>\n",
       "      <td>101</td>\n",
       "      <td>714</td>\n",
       "      <td>55</td>\n",
       "      <td>079</td>\n",
       "    </tr>\n",
       "    <tr>\n",
       "      <th>1</th>\n",
       "      <td>Census Tract 1.02, Milwaukee County, Wisconsin</td>\n",
       "      <td>43487</td>\n",
       "      <td>612</td>\n",
       "      <td>183</td>\n",
       "      <td>331</td>\n",
       "      <td>1902</td>\n",
       "      <td>84</td>\n",
       "      <td>7</td>\n",
       "      <td>55</td>\n",
       "      <td>079</td>\n",
       "      <td>102</td>\n",
       "      <td>59</td>\n",
       "      <td>55</td>\n",
       "      <td>079</td>\n",
       "    </tr>\n",
       "    <tr>\n",
       "      <th>2</th>\n",
       "      <td>Census Tract 2.01, Milwaukee County, Wisconsin</td>\n",
       "      <td>33451</td>\n",
       "      <td>348</td>\n",
       "      <td>638</td>\n",
       "      <td>728</td>\n",
       "      <td>3358</td>\n",
       "      <td>92</td>\n",
       "      <td>72</td>\n",
       "      <td>55</td>\n",
       "      <td>079</td>\n",
       "      <td>201</td>\n",
       "      <td>1043</td>\n",
       "      <td>55</td>\n",
       "      <td>079</td>\n",
       "    </tr>\n",
       "    <tr>\n",
       "      <th>3</th>\n",
       "      <td>Census Tract 2.02, Milwaukee County, Wisconsin</td>\n",
       "      <td>68576</td>\n",
       "      <td>576</td>\n",
       "      <td>809</td>\n",
       "      <td>228</td>\n",
       "      <td>3820</td>\n",
       "      <td>0</td>\n",
       "      <td>0</td>\n",
       "      <td>55</td>\n",
       "      <td>079</td>\n",
       "      <td>202</td>\n",
       "      <td>251</td>\n",
       "      <td>55</td>\n",
       "      <td>079</td>\n",
       "    </tr>\n",
       "    <tr>\n",
       "      <th>4</th>\n",
       "      <td>Census Tract 3.01, Milwaukee County, Wisconsin</td>\n",
       "      <td>69833</td>\n",
       "      <td>251</td>\n",
       "      <td>83</td>\n",
       "      <td>63</td>\n",
       "      <td>111</td>\n",
       "      <td>0</td>\n",
       "      <td>3</td>\n",
       "      <td>55</td>\n",
       "      <td>079</td>\n",
       "      <td>301</td>\n",
       "      <td>3</td>\n",
       "      <td>55</td>\n",
       "      <td>079</td>\n",
       "    </tr>\n",
       "  </tbody>\n",
       "</table>\n",
       "</div>"
      ],
      "text/plain": [
       "                                             NAME DP03_0062E DP05_0024E  \\\n",
       "0  Census Tract 1.01, Milwaukee County, Wisconsin      30708        709   \n",
       "1  Census Tract 1.02, Milwaukee County, Wisconsin      43487        612   \n",
       "2  Census Tract 2.01, Milwaukee County, Wisconsin      33451        348   \n",
       "3  Census Tract 2.02, Milwaukee County, Wisconsin      68576        576   \n",
       "4  Census Tract 3.01, Milwaukee County, Wisconsin      69833        251   \n",
       "\n",
       "  DP05_0005E DP05_0071E DP05_0038E DP03_0021E DP03_0022E state_x county_x  \\\n",
       "0        260        169       3819        173         43      55      079   \n",
       "1        183        331       1902         84          7      55      079   \n",
       "2        638        728       3358         92         72      55      079   \n",
       "3        809        228       3820          0          0      55      079   \n",
       "4         83         63        111          0          3      55      079   \n",
       "\n",
       "  tract B05010_002E state_y county_y  \n",
       "0   101         714      55      079  \n",
       "1   102          59      55      079  \n",
       "2   201        1043      55      079  \n",
       "3   202         251      55      079  \n",
       "4   301           3      55      079  "
      ]
     },
     "execution_count": 9,
     "metadata": {},
     "output_type": "execute_result"
    }
   ],
   "source": [
    "# join the fields so all acs is in one layer\n",
    "df_merged = mke_acs_data.merge(house_acs_data, left_on='tract', right_on='tract')\n",
    "df_merged.head()"
   ]
  },
  {
   "cell_type": "code",
   "execution_count": null,
   "metadata": {},
   "outputs": [],
   "source": [
    "# export as csv\n",
    "df_merged.to_csv(r'C:\\Users\\swimb\\Documents\\UMN\\fall2022\\GIS5571\\mketreecover\\mketrecover\\data\\acs_joined_data.csv')"
   ]
  },
  {
   "cell_type": "markdown",
   "metadata": {},
   "source": [
    "## Process to bring in Census Tracts"
   ]
  },
  {
   "cell_type": "code",
   "execution_count": 15,
   "metadata": {},
   "outputs": [],
   "source": [
    "# bring in data from big 10 location\n",
    "mke_census_tracts_big = r\"https://gis-mclio.opendata.arcgis.com/datasets/d60028f77427442cac14d8f6effab8b1_1.zip\""
   ]
  },
  {
   "cell_type": "code",
   "execution_count": 16,
   "metadata": {},
   "outputs": [
    {
     "name": "stdout",
     "output_type": "stream",
     "text": [
      "Downloading shapefile...\n",
      "Done\n",
      "['Census_Tracts.dbf', 'Census_Tracts.prj', 'Census_Tracts.shp', 'Census_Tracts.shx']\n"
     ]
    }
   ],
   "source": [
    "local_path = 'C:/Users/swimb/Documents/UMN/fall2022/GIS5571/mketreecover/mketrecover/mketrecover.gdb/'\n",
    "print('Downloading shapefile...')\n",
    "r = requests.get(mke_census_tracts_big)\n",
    "z = zipfile.ZipFile(io.BytesIO(r.content))\n",
    "print(\"Done\")\n",
    "\n",
    "z.extractall(path=local_path) # extract to folder\n",
    "filenames = [y for y in sorted(z.namelist()) for ending in ['dbf', 'prj', 'shp', 'shx'] if y.endswith(ending)] \n",
    "print(filenames)\n",
    "\n",
    "\n",
    "# https://medium.com/@loldja/reading-shapefile-zips-from-a-url-in-python-3-93ea8d727856"
   ]
  },
  {
   "cell_type": "code",
   "execution_count": 17,
   "metadata": {},
   "outputs": [
    {
     "ename": "ImportError",
     "evalue": "the 'read_file' function requires the 'fiona' package, but it is not installed or does not import correctly.\nImporting fiona resulted in: No module named 'fiona'",
     "output_type": "error",
     "traceback": [
      "\u001b[0;31m---------------------------------------------------------------------------\u001b[0m\n\u001b[0;31mImportError\u001b[0m                               Traceback (most recent call last)",
      "In  \u001b[0;34m[17]\u001b[0m:\nLine \u001b[0;34m2\u001b[0m:     mke_census_tract = gpd.read_file(local_path + shp)\n",
      "File \u001b[0;34mC:\\Users\\swimb\\AppData\\Local\\ESRI\\conda\\envs\\arcgispro-py3-clone\\lib\\site-packages\\geopandas\\io\\file.py\u001b[0m, in \u001b[0;32m_read_file\u001b[0m:\nLine \u001b[0;34m127\u001b[0m:   _check_fiona(\u001b[33m\"\u001b[39;49;00m\u001b[33m'\u001b[39;49;00m\u001b[33mread_file\u001b[39;49;00m\u001b[33m'\u001b[39;49;00m\u001b[33m function\u001b[39;49;00m\u001b[33m\"\u001b[39;49;00m)\n",
      "File \u001b[0;34mC:\\Users\\swimb\\AppData\\Local\\ESRI\\conda\\envs\\arcgispro-py3-clone\\lib\\site-packages\\geopandas\\io\\file.py\u001b[0m, in \u001b[0;32m_check_fiona\u001b[0m:\nLine \u001b[0;34m42\u001b[0m:    \u001b[34mraise\u001b[39;49;00m \u001b[36mImportError\u001b[39;49;00m(\n",
      "\u001b[0;31mImportError\u001b[0m: the 'read_file' function requires the 'fiona' package, but it is not installed or does not import correctly.\nImporting fiona resulted in: No module named 'fiona'\n\u001b[0;31m---------------------------------------------------------------------------\u001b[0m"
     ]
    }
   ],
   "source": [
    "# works in juypter notebook but not in arcpy environment\n",
    "dbf, prj, shp, shx = [filename for filename in filenames]\n",
    "mke_census_tract = gpd.read_file(local_path + shp)\n",
    "print(\"Shape of the dataframe: {}\".format(mke_census_tract.shape))\n",
    "print(\"Projection of dataframe: {}\".format(mke_census_tract.crs))\n",
    "mke_census_tract.tail(20) #last 5 records in dataframe"
   ]
  },
  {
   "cell_type": "code",
   "execution_count": null,
   "metadata": {},
   "outputs": [],
   "source": [
    "ax = mke_census_tract.plot()\n",
    "ax.set_title(\"MKE Census Tracts. Default view)\");"
   ]
  },
  {
   "cell_type": "markdown",
   "metadata": {},
   "source": [
    "## Process to bring in traffic data"
   ]
  },
  {
   "cell_type": "code",
   "execution_count": 18,
   "metadata": {},
   "outputs": [
    {
     "ename": "ImportError",
     "evalue": "the 'read_file' function requires the 'fiona' package, but it is not installed or does not import correctly.\nImporting fiona resulted in: No module named 'fiona'",
     "output_type": "error",
     "traceback": [
      "\u001b[0;31m---------------------------------------------------------------------------\u001b[0m\n\u001b[0;31mImportError\u001b[0m                               Traceback (most recent call last)",
      "In  \u001b[0;34m[18]\u001b[0m:\nLine \u001b[0;34m4\u001b[0m:     traffic_data = gpd.read_file(traffic_url)\n",
      "File \u001b[0;34mC:\\Users\\swimb\\AppData\\Local\\ESRI\\conda\\envs\\arcgispro-py3-clone\\lib\\site-packages\\geopandas\\io\\file.py\u001b[0m, in \u001b[0;32m_read_file\u001b[0m:\nLine \u001b[0;34m127\u001b[0m:   _check_fiona(\u001b[33m\"\u001b[39;49;00m\u001b[33m'\u001b[39;49;00m\u001b[33mread_file\u001b[39;49;00m\u001b[33m'\u001b[39;49;00m\u001b[33m function\u001b[39;49;00m\u001b[33m\"\u001b[39;49;00m)\n",
      "File \u001b[0;34mC:\\Users\\swimb\\AppData\\Local\\ESRI\\conda\\envs\\arcgispro-py3-clone\\lib\\site-packages\\geopandas\\io\\file.py\u001b[0m, in \u001b[0;32m_check_fiona\u001b[0m:\nLine \u001b[0;34m42\u001b[0m:    \u001b[34mraise\u001b[39;49;00m \u001b[36mImportError\u001b[39;49;00m(\n",
      "\u001b[0;31mImportError\u001b[0m: the 'read_file' function requires the 'fiona' package, but it is not installed or does not import correctly.\nImporting fiona resulted in: No module named 'fiona'\n\u001b[0;31m---------------------------------------------------------------------------\u001b[0m"
     ]
    }
   ],
   "source": [
    "# traffic data bringing in . Works in juypter notebook\n",
    "\n",
    "traffic_url = r\"https://dotmaps.wi.gov/arcgis/rest/services/agohub/TRAFFIC_COUNTS/MapServer/0/query?outFields=*&where=1%3D1&f=geojson\"\n",
    "traffic_data = gpd.read_file(traffic_url)\n",
    "traffic_data.to_file('traffic_url')\n",
    "\n",
    "traffic_data"
   ]
  },
  {
   "cell_type": "markdown",
   "metadata": {},
   "source": [
    "# Process to bring in Landsat 8 imagery. I tried several different ways. \n",
    "## I found the most success with trial 3"
   ]
  },
  {
   "cell_type": "code",
   "execution_count": null,
   "metadata": {},
   "outputs": [],
   "source": [
    "# trial 1\n",
    "import ee\n",
    "pip install earthengine-api\n",
    "pip install earthengine-api --upgrade"
   ]
  },
  {
   "cell_type": "code",
   "execution_count": null,
   "metadata": {},
   "outputs": [],
   "source": [
    "ee.Authenticate()\n",
    "ee.Initialize()"
   ]
  },
  {
   "cell_type": "code",
   "execution_count": null,
   "metadata": {},
   "outputs": [],
   "source": [
    "# was not working\n",
    "\n",
    "dataset = ee.ImageCollection(\"LANDSAT/LC08/C02/T1_TOA\").filterDate('2014-07-01', '2-15-07-31');\n",
    "trueColor432 = dataset.select(['B4', 'B5', 'B10']);\n",
    "trueColor432Vis = {\n",
    "  min: 0.0,\n",
    "  max: 0.4,};\n",
    "Map.addLayer()"
   ]
  },
  {
   "cell_type": "code",
   "execution_count": null,
   "metadata": {},
   "outputs": [],
   "source": [
    "# trial 2. This got me the farthest as I selected the right scene, but when trying to download, I ran into problems that others had and could not get past\n",
    "# https://github.com/yannforget/landsatxplore\n",
    "pip install landsatxplore"
   ]
  },
  {
   "cell_type": "code",
   "execution_count": null,
   "metadata": {},
   "outputs": [],
   "source": [
    "import json\n",
    "from landsatxplore.api import API\n",
    "\n",
    "# Initialize a new API instance and get an access key\n",
    "api = API('bott0137@umn.edu', 'THIS IS WHERE I PUT MY PASSWORD, BUT DID NOT INCLUDE FOR PRIVACY')\n",
    "\n",
    "# Search for Landsat TM scenes\n",
    "scenes = api.search(\n",
    "    dataset='landsat_8_c1',\n",
    "    latitude=43.038902,\n",
    "    longitude=-87.906471,\n",
    "    start_date='2014-07-01',\n",
    "    end_date='2014-07-28',\n",
    "    max_cloud_cover=10\n",
    ")\n",
    "\n",
    "print(f\"{len(scenes)} scenes found.\")\n",
    "\n",
    "# Process the result\n",
    "for scene in scenes:\n",
    "    print(scene['acquisition_date'].strftime('%Y-%m-%d'))\n",
    "    # Write scene footprints to disk\n",
    "    fname = f\"{scene['landsat_product_id']}.geojson\"\n",
    "    with open(fname, \"w\") as f:\n",
    "        json.dump(scene['spatial_coverage'].__geo_interface__, f)\n",
    "\n",
    "api.logout()\n",
    "\n",
    "# https://community.esri.com/t5/python-questions/quot-list-index-out-of-range-quot-for-downloading/td-p/1174082"
   ]
  },
  {
   "cell_type": "code",
   "execution_count": null,
   "metadata": {},
   "outputs": [],
   "source": [
    "# this should download the scene I want\n",
    "# was not working and this forum had the same issue with no one able to resolve it: https://community.esri.com/t5/python-questions/quot-list-index-out-of-range-quot-for-downloading/td-p/1174082\n",
    "# getting list index out of range, this is frustrating!\n",
    "\n",
    "from landsatxplore.earthexplorer import EarthExplorer\n",
    "\n",
    "ee = EarthExplorer('bott0137@umn.edu', 'THIS IS WHERE I PUT MY PASSWORD, BUT DID NOT INCLUDE FOR PRIVACY')\n",
    "\n",
    "ee.download(scene_id='LC80230302014202LGN01', output_dir='C:/Users/swimb/Documents/UMN/fall2022/GIS5571')\n",
    "\n",
    "ee.logout()"
   ]
  },
  {
   "cell_type": "code",
   "execution_count": null,
   "metadata": {},
   "outputs": [],
   "source": [
    "# trial 3, I got the farthest I thought from this method, but it would not download\n",
    "# import Google earth engine module\n",
    "import ee\n",
    "\n",
    "#Authenticate the Google earth engine with google account\n",
    "ee.Authenticate()\n",
    "ee.Initialize()"
   ]
  },
  {
   "cell_type": "code",
   "execution_count": null,
   "metadata": {},
   "outputs": [],
   "source": [
    "#load image\n",
    "MyImage  =  ee.ImageCollection(\"LANDSAT/LC08/C02/T1_L2\")"
   ]
  },
  {
   "cell_type": "code",
   "execution_count": null,
   "metadata": {},
   "outputs": [],
   "source": [
    "#create function to download the image or imagecollection as you desire\n",
    "def downloader(ee_object,region): \n",
    "    try:\n",
    "        #download image\n",
    "        if isinstance(ee_object, ee.image.Image):\n",
    "            print('Its Image')\n",
    "            url = ee_object.getDownloadUrl({\n",
    "                    'scale': 30,\n",
    "                    'crs': 'EPSG:4326',\n",
    "                    'region': region\n",
    "                })\n",
    "            return url\n",
    "        \n",
    "        #download imagecollection\n",
    "        elif isinstance(ee_object, ee.imagecollection.ImageCollection):\n",
    "            print('Its ImageCollection')\n",
    "            ee_object_new = ee_object.mosaic()\n",
    "            url = ee_object_new.getDownloadUrl({\n",
    "                    'scale': 30,\n",
    "                    'crs': 'EPSG:4326',\n",
    "                    'region': region\n",
    "                })\n",
    "            return url\n",
    "    except:\n",
    "        print(\"Could not download\")"
   ]
  },
  {
   "cell_type": "code",
   "execution_count": null,
   "metadata": {},
   "outputs": [],
   "source": [
    "geometry = ee.Geometry.Rectangle([80.058, 26.347, 82.201, 28.447])\n",
    "\n",
    "region = geometry.toGeoJSONString()#region must in JSON format\n",
    "\n",
    "path = downloader(MyImage,region)#call function\n",
    "\n",
    "print(path)#print the download URL"
   ]
  },
  {
   "cell_type": "code",
   "execution_count": null,
   "metadata": {},
   "outputs": [],
   "source": [
    "# trial 4\n",
    "#import module \n",
    "import ee\n",
    "\n",
    "#intialize the google earth api\n",
    "ee.Initialize()\n",
    "\n",
    "geometry = ee.Geometry.Rectangle([80.0, 26.3, 82.2, 28.4]) \n",
    "\n",
    "region = geometry.toGeoJSONString()#region must in JSON format\n",
    "\n",
    "\n",
    "# Get a download URL for an image.\n",
    "imageCollection = ee.ImageCollection('LANDSAT/LC08/C01/T1_SR')\n",
    "imageCollection  = imageCollection .mosaic()\n",
    "url = imageCollection .getDownloadUrl({\n",
    "                    'scale': 5,\n",
    "                    'crs': 'EPSG:4326',\n",
    "                    'region': region\n",
    "                })\n",
    "print(url)"
   ]
  },
  {
   "cell_type": "markdown",
   "metadata": {},
   "source": [
    "# Phase 2: Prepare data for analysis. Mainly need to get data summarized by census tract"
   ]
  },
  {
   "cell_type": "markdown",
   "metadata": {},
   "source": [
    "### Get tree canopy data into percet by each tract and tree canopy area for each tract"
   ]
  },
  {
   "cell_type": "code",
   "execution_count": null,
   "metadata": {},
   "outputs": [],
   "source": [
    "# zonal stats to get tree cover percent for each census tract\n",
    "arcpy.sa.ZonalStatisticsAsTable(\"Census_Tracts\", \"Tract_ID_I\", \"USA NLCD Tree Canopy Cover\", r\"C:\\Users\\swimb\\Documents\\UMN\\fall2022\\GIS5571\\mketreecover\\mketrecover\\mketrecover.gdb\\ZonalSt_Census_1\", \"DATA\", \"MEAN\", \"CURRENT_SLICE\", [90], \"AUTO_DETECT\", \"ARITHMETIC\", 360)"
   ]
  },
  {
   "cell_type": "code",
   "execution_count": null,
   "metadata": {},
   "outputs": [],
   "source": [
    "# join mean percentage of each census tract to CENSUS TRACTS Layer\n",
    "arcpy.management.JoinField(\"Census_Tracts\", \"Tract_ID_I\", \"ZonalSt_Census_1\", \"Tract_ID_I\", \"MEAN\", \"NOT_USE_FM\", None)"
   ]
  },
  {
   "cell_type": "code",
   "execution_count": null,
   "metadata": {},
   "outputs": [],
   "source": [
    "# calculate the area of each census tract in sq km\n",
    "arcpy.management.CalculateGeometryAttributes(\"MKE_census\", \"AreaKM AREA_GEODESIC\", '', \"SQUARE_KILOMETERS\", 'GEOGCS[\"GCS_WGS_1984\",DATUM[\"D_WGS_1984\",SPHEROID[\"WGS_1984\",6378137.0,298.257223563]],PRIMEM[\"Greenwich\",0.0],UNIT[\"Degree\",0.0174532925199433]]', \"SAME_AS_INPUT\")"
   ]
  },
  {
   "cell_type": "code",
   "execution_count": null,
   "metadata": {},
   "outputs": [],
   "source": [
    "# multiple the percent tree cover by .01 and by the area of census tract to get the sq km tree coverage of each census tract\n",
    "arcpy.management.CalculateField(\"MKE_census\", \"canopySqKm\", \"!AreaKM! * !percentcover! * 0.01\", \"PYTHON3\", '', \"TEXT\", \"NO_ENFORCE_DOMAINS\")"
   ]
  },
  {
   "cell_type": "markdown",
   "metadata": {},
   "source": [
    "### A map was made showing the percentage tree canopy cover in mke by census tract"
   ]
  },
  {
   "cell_type": "markdown",
   "metadata": {},
   "source": [
    "## Process air quality data for analysis"
   ]
  },
  {
   "cell_type": "code",
   "execution_count": null,
   "metadata": {},
   "outputs": [],
   "source": [
    "# extract by mask all 18 rasters to get into MKE county extent\n",
    "out_raster = arcpy.sa.ExtractByMask(r\"raw air quality\\V4NA03_PM25_NA_201801_201812-RH35-NoNegs.asc\", \"County_Boundary\", \"INSIDE\", '-88.0699458650294 42.8420241385384 -87.8237083357211 43.1925666611169 GEOGCS[\"GCS_WGS_1984\",DATUM[\"D_WGS_1984\",SPHEROID[\"WGS_1984\",6378137.0,298.257223563]],PRIMEM[\"Greenwich\",0.0],UNIT[\"Degree\",0.0174532925199433]]'); out_raster.save(r\"C:\\Users\\swimb\\Documents\\UMN\\fall2022\\GIS5571\\mketreecover\\mketrecover\\mketrecover.gdb\\A201812_RH35\")\n",
    "out_raster = arcpy.sa.ExtractByMask(r\"raw air quality\\V4NA03_PM25_NA_200101_200112-RH35-NoNegs.asc\", \"County_Boundary\", \"INSIDE\", '-88.0699458650294 42.8420241385384 -87.8237083357211 43.1925666611169 GEOGCS[\"GCS_WGS_1984\",DATUM[\"D_WGS_1984\",SPHEROID[\"WGS_1984\",6378137.0,298.257223563]],PRIMEM[\"Greenwich\",0.0],UNIT[\"Degree\",0.0174532925199433]]'); out_raster.save(r\"C:\\Users\\swimb\\Documents\\UMN\\fall2022\\GIS5571\\mketreecover\\mketrecover\\mketrecover.gdb\\A200112_RH35\")\n",
    "out_raster = arcpy.sa.ExtractByMask(r\"raw air quality\\V4NA03_PM25_NA_200201_200212-RH35-NoNegs.asc\", \"County_Boundary\", \"INSIDE\", '-88.0699458650294 42.8420241385384 -87.8237083357211 43.1925666611169 GEOGCS[\"GCS_WGS_1984\",DATUM[\"D_WGS_1984\",SPHEROID[\"WGS_1984\",6378137.0,298.257223563]],PRIMEM[\"Greenwich\",0.0],UNIT[\"Degree\",0.0174532925199433]]'); out_raster.save(r\"C:\\Users\\swimb\\Documents\\UMN\\fall2022\\GIS5571\\mketreecover\\mketrecover\\mketrecover.gdb\\A200212_RH35\")\n",
    "out_raster = arcpy.sa.ExtractByMask(r\"raw air quality\\V4NA03_PM25_NA_200301_200312-RH35-NoNegs.asc\", \"County_Boundary\", \"INSIDE\", '-88.0699458650294 42.8420241385384 -87.8237083357211 43.1925666611169 GEOGCS[\"GCS_WGS_1984\",DATUM[\"D_WGS_1984\",SPHEROID[\"WGS_1984\",6378137.0,298.257223563]],PRIMEM[\"Greenwich\",0.0],UNIT[\"Degree\",0.0174532925199433]]'); out_raster.save(r\"C:\\Users\\swimb\\Documents\\UMN\\fall2022\\GIS5571\\mketreecover\\mketrecover\\mketrecover.gdb\\A2003212_RH35\")\n",
    "out_raster = arcpy.sa.ExtractByMask(r\"raw air quality\\V4NA03_PM25_NA_200401_200412-RH35-NoNegs.asc\", \"County_Boundary\", \"INSIDE\", '-88.0699458650294 42.8420241385384 -87.8237083357211 43.1925666611169 GEOGCS[\"GCS_WGS_1984\",DATUM[\"D_WGS_1984\",SPHEROID[\"WGS_1984\",6378137.0,298.257223563]],PRIMEM[\"Greenwich\",0.0],UNIT[\"Degree\",0.0174532925199433]]'); out_raster.save(r\"C:\\Users\\swimb\\Documents\\UMN\\fall2022\\GIS5571\\mketreecover\\mketrecover\\mketrecover.gdb\\A200412_RH35\")\n",
    "out_raster = arcpy.sa.ExtractByMask(r\"raw air quality\\V4NA03_PM25_NA_200501_200512-RH35-NoNegs.asc\", \"County_Boundary\", \"INSIDE\", '-88.0699458650294 42.8420241385384 -87.8237083357211 43.1925666611169 GEOGCS[\"GCS_WGS_1984\",DATUM[\"D_WGS_1984\",SPHEROID[\"WGS_1984\",6378137.0,298.257223563]],PRIMEM[\"Greenwich\",0.0],UNIT[\"Degree\",0.0174532925199433]]'); out_raster.save(r\"C:\\Users\\swimb\\Documents\\UMN\\fall2022\\GIS5571\\mketreecover\\mketrecover\\mketrecover.gdb\\A200512_RH35\")\n",
    "out_raster = arcpy.sa.ExtractByMask(r\"raw air quality\\V4NA03_PM25_NA_200601_200612-RH35-NoNegs.asc\", \"County_Boundary\", \"INSIDE\", '-88.0699458650294 42.8420241385384 -87.8237083357211 43.1925666611169 GEOGCS[\"GCS_WGS_1984\",DATUM[\"D_WGS_1984\",SPHEROID[\"WGS_1984\",6378137.0,298.257223563]],PRIMEM[\"Greenwich\",0.0],UNIT[\"Degree\",0.0174532925199433]]'); out_raster.save(r\"C:\\Users\\swimb\\Documents\\UMN\\fall2022\\GIS5571\\mketreecover\\mketrecover\\mketrecover.gdb\\A200612_RH35\")\n",
    "out_raster = arcpy.sa.ExtractByMask(r\"raw air quality\\V4NA03_PM25_NA_200701_200712-RH35-NoNegs.asc\", \"County_Boundary\", \"INSIDE\", '-88.0699458650294 42.8420241385384 -87.8237083357211 43.1925666611169 GEOGCS[\"GCS_WGS_1984\",DATUM[\"D_WGS_1984\",SPHEROID[\"WGS_1984\",6378137.0,298.257223563]],PRIMEM[\"Greenwich\",0.0],UNIT[\"Degree\",0.0174532925199433]]'); out_raster.save(r\"C:\\Users\\swimb\\Documents\\UMN\\fall2022\\GIS5571\\mketreecover\\mketrecover\\mketrecover.gdb\\A200712_RH35\")\n",
    "out_raster = arcpy.sa.ExtractByMask(r\"raw air quality\\V4NA03_PM25_NA_200801_200812-RH35-NoNegs.asc\", \"County_Boundary\", \"INSIDE\", '-88.0699458650294 42.8420241385384 -87.8237083357211 43.1925666611169 GEOGCS[\"GCS_WGS_1984\",DATUM[\"D_WGS_1984\",SPHEROID[\"WGS_1984\",6378137.0,298.257223563]],PRIMEM[\"Greenwich\",0.0],UNIT[\"Degree\",0.0174532925199433]]'); out_raster.save(r\"C:\\Users\\swimb\\Documents\\UMN\\fall2022\\GIS5571\\mketreecover\\mketrecover\\mketrecover.gdb\\A200812_RH35\")\n",
    "out_raster = arcpy.sa.ExtractByMask(r\"raw air quality\\V4NA03_PM25_NA_200901_200912-RH35-NoNegs.asc\", \"County_Boundary\", \"INSIDE\", '-88.0699458650294 42.8420241385384 -87.8237083357211 43.1925666611169 GEOGCS[\"GCS_WGS_1984\",DATUM[\"D_WGS_1984\",SPHEROID[\"WGS_1984\",6378137.0,298.257223563]],PRIMEM[\"Greenwich\",0.0],UNIT[\"Degree\",0.0174532925199433]]'); out_raster.save(r\"C:\\Users\\swimb\\Documents\\UMN\\fall2022\\GIS5571\\mketreecover\\mketrecover\\mketrecover.gdb\\A200912_RH35\")\n",
    "out_raster = arcpy.sa.ExtractByMask(r\"raw air quality\\V4NA03_PM25_NA_201001_201012-RH35-NoNegs.asc\", \"County_Boundary\", \"INSIDE\", '-88.0699458650294 42.8420241385384 -87.8237083357211 43.1925666611169 GEOGCS[\"GCS_WGS_1984\",DATUM[\"D_WGS_1984\",SPHEROID[\"WGS_1984\",6378137.0,298.257223563]],PRIMEM[\"Greenwich\",0.0],UNIT[\"Degree\",0.0174532925199433]]'); out_raster.save(r\"C:\\Users\\swimb\\Documents\\UMN\\fall2022\\GIS5571\\mketreecover\\mketrecover\\mketrecover.gdb\\A201012_RH35\")\n",
    "out_raster = arcpy.sa.ExtractByMask(r\"raw air quality\\V4NA03_PM25_NA_201101_201112-RH35-NoNegs.asc\", \"County_Boundary\", \"INSIDE\", '-88.0699458650294 42.8420241385384 -87.8237083357211 43.1925666611169 GEOGCS[\"GCS_WGS_1984\",DATUM[\"D_WGS_1984\",SPHEROID[\"WGS_1984\",6378137.0,298.257223563]],PRIMEM[\"Greenwich\",0.0],UNIT[\"Degree\",0.0174532925199433]]'); out_raster.save(r\"C:\\Users\\swimb\\Documents\\UMN\\fall2022\\GIS5571\\mketreecover\\mketrecover\\mketrecover.gdb\\A201112_RH35\")\n",
    "out_raster = arcpy.sa.ExtractByMask(r\"raw air quality\\V4NA03_PM25_NA_201201_201212-RH35-NoNegs.asc\", \"County_Boundary\", \"INSIDE\", '-88.0699458650294 42.8420241385384 -87.8237083357211 43.1925666611169 GEOGCS[\"GCS_WGS_1984\",DATUM[\"D_WGS_1984\",SPHEROID[\"WGS_1984\",6378137.0,298.257223563]],PRIMEM[\"Greenwich\",0.0],UNIT[\"Degree\",0.0174532925199433]]'); out_raster.save(r\"C:\\Users\\swimb\\Documents\\UMN\\fall2022\\GIS5571\\mketreecover\\mketrecover\\mketrecover.gdb\\A201212_RH35\")\n",
    "out_raster = arcpy.sa.ExtractByMask(r\"raw air quality\\V4NA03_PM25_NA_201301_201312-RH35-NoNegs.asc\", \"County_Boundary\", \"INSIDE\", '-88.0699458650294 42.8420241385384 -87.8237083357211 43.1925666611169 GEOGCS[\"GCS_WGS_1984\",DATUM[\"D_WGS_1984\",SPHEROID[\"WGS_1984\",6378137.0,298.257223563]],PRIMEM[\"Greenwich\",0.0],UNIT[\"Degree\",0.0174532925199433]]'); out_raster.save(r\"C:\\Users\\swimb\\Documents\\UMN\\fall2022\\GIS5571\\mketreecover\\mketrecover\\mketrecover.gdb\\A201312_RH35\")\n",
    "out_raster = arcpy.sa.ExtractByMask(r\"raw air quality\\V4NA03_PM25_NA_201401_201412-RH35-NoNegs.asc\", \"County_Boundary\", \"INSIDE\", '-88.0699458650294 42.8420241385384 -87.8237083357211 43.1925666611169 GEOGCS[\"GCS_WGS_1984\",DATUM[\"D_WGS_1984\",SPHEROID[\"WGS_1984\",6378137.0,298.257223563]],PRIMEM[\"Greenwich\",0.0],UNIT[\"Degree\",0.0174532925199433]]'); out_raster.save(r\"C:\\Users\\swimb\\Documents\\UMN\\fall2022\\GIS5571\\mketreecover\\mketrecover\\mketrecover.gdb\\A201412_RH35\")\n",
    "out_raster = arcpy.sa.ExtractByMask(r\"raw air quality\\V4NA03_PM25_NA_201501_201512-RH35-NoNegs.asc\", \"County_Boundary\", \"INSIDE\", '-88.0699458650294 42.8420241385384 -87.8237083357211 43.1925666611169 GEOGCS[\"GCS_WGS_1984\",DATUM[\"D_WGS_1984\",SPHEROID[\"WGS_1984\",6378137.0,298.257223563]],PRIMEM[\"Greenwich\",0.0],UNIT[\"Degree\",0.0174532925199433]]'); out_raster.save(r\"C:\\Users\\swimb\\Documents\\UMN\\fall2022\\GIS5571\\mketreecover\\mketrecover\\mketrecover.gdb\\A201512_RH35\")\n",
    "out_raster = arcpy.sa.ExtractByMask(r\"raw air quality\\V4NA03_PM25_NA_201601_201612-RH35-NoNegs.asc\", \"County_Boundary\", \"INSIDE\", '-88.0699458650294 42.8420241385384 -87.8237083357211 43.1925666611169 GEOGCS[\"GCS_WGS_1984\",DATUM[\"D_WGS_1984\",SPHEROID[\"WGS_1984\",6378137.0,298.257223563]],PRIMEM[\"Greenwich\",0.0],UNIT[\"Degree\",0.0174532925199433]]'); out_raster.save(r\"C:\\Users\\swimb\\Documents\\UMN\\fall2022\\GIS5571\\mketreecover\\mketrecover\\mketrecover.gdb\\A201612_RH35\")\n",
    "out_raster = arcpy.sa.ExtractByMask(r\"raw air quality\\V4NA03_PM25_NA_201701_201712-RH35-NoNegs.asc\", \"County_Boundary\", \"INSIDE\", '-88.0699458650294 42.8420241385384 -87.8237083357211 43.1925666611169 GEOGCS[\"GCS_WGS_1984\",DATUM[\"D_WGS_1984\",SPHEROID[\"WGS_1984\",6378137.0,298.257223563]],PRIMEM[\"Greenwich\",0.0],UNIT[\"Degree\",0.0174532925199433]]'); out_raster.save(r\"C:\\Users\\swimb\\Documents\\UMN\\fall2022\\GIS5571\\mketreecover\\mketrecover\\mketrecover.gdb\\A201712_RH35\")\n",
    "out_raster = arcpy.sa.ExtractByMask(r\"raw air quality\\V4NA03_PM25_NA_200001_200012-RH35-NoNegs.asc\", \"County_Boundary\", \"INSIDE\", '-88.0699458650294 42.8420241385384 -87.8237083357211 43.1925666611169 GEOGCS[\"GCS_WGS_1984\",DATUM[\"D_WGS_1984\",SPHEROID[\"WGS_1984\",6378137.0,298.257223563]],PRIMEM[\"Greenwich\",0.0],UNIT[\"Degree\",0.0174532925199433]]'); out_raster.save(r\"C:\\Users\\swimb\\Documents\\UMN\\fall2022\\GIS5571\\mketreecover\\mketrecover\\mketrecover.gdb\\A200012_RH35\")"
   ]
  },
  {
   "cell_type": "code",
   "execution_count": null,
   "metadata": {},
   "outputs": [],
   "source": [
    "# resample each of these. As they were not perfect squares\n",
    "arcpy.management.Resample(r\"clipped air quality\\A200012_RH35\", r\"C:\\Users\\swimb\\Documents\\UMN\\fall2022\\GIS5571\\mketreecover\\mketrecover\\mketrecover.gdb\\A200012_RH35_Resample\", \"0.001 0.001\", \"NEAREST\")\n",
    "arcpy.management.Resample(r\"clipped air quality\\A200112_RH35\", r\"C:\\Users\\swimb\\Documents\\UMN\\fall2022\\GIS5571\\mketreecover\\mketrecover\\mketrecover.gdb\\A201012_RH35_Resample\", \"0.001 0.001\", \"NEAREST\")\n",
    "arcpy.management.Resample(r\"clipped air quality\\A200212_RH35\", r\"C:\\Users\\swimb\\Documents\\UMN\\fall2022\\GIS5571\\mketreecover\\mketrecover\\mketrecover.gdb\\A200212_RH35_Resample\", \"0.001 0.001\", \"NEAREST\")\n",
    "arcpy.management.Resample(r\"clipped air quality\\A2003212_RH35\", r\"C:\\Users\\swimb\\Documents\\UMN\\fall2022\\GIS5571\\mketreecover\\mketrecover\\mketrecover.gdb\\A200312_RH35_Resample\", \"0.001 0.001\", \"NEAREST\")\n",
    "arcpy.management.Resample(r\"clipped air quality\\A200412_RH35\", r\"C:\\Users\\swimb\\Documents\\UMN\\fall2022\\GIS5571\\mketreecover\\mketrecover\\mketrecover.gdb\\A200412_RH35_Resample\", \"0.001 0.001\", \"NEAREST\")\n",
    "arcpy.management.Resample(r\"clipped air quality\\A200512_RH35\", r\"C:\\Users\\swimb\\Documents\\UMN\\fall2022\\GIS5571\\mketreecover\\mketrecover\\mketrecover.gdb\\A200512_RH35_Resample\", \"0.001 0.001\", \"NEAREST\")\n",
    "arcpy.management.Resample(r\"clipped air quality\\A200612_RH35\", r\"C:\\Users\\swimb\\Documents\\UMN\\fall2022\\GIS5571\\mketreecover\\mketrecover\\mketrecover.gdb\\A200612_RH35_Resample\", \"0.001 0.001\", \"NEAREST\")\n",
    "arcpy.management.Resample(r\"clipped air quality\\A200712_RH35\", r\"C:\\Users\\swimb\\Documents\\UMN\\fall2022\\GIS5571\\mketreecover\\mketrecover\\mketrecover.gdb\\A200712_RH35_Resample\", \"0.001 0.001\", \"NEAREST\")\n",
    "arcpy.management.Resample(r\"clipped air quality\\A200812_RH35\", r\"C:\\Users\\swimb\\Documents\\UMN\\fall2022\\GIS5571\\mketreecover\\mketrecover\\mketrecover.gdb\\A200812_RH35_Resample\", \"0.001 0.001\", \"NEAREST\")\n",
    "arcpy.management.Resample(r\"clipped air quality\\A200912_RH35\", r\"C:\\Users\\swimb\\Documents\\UMN\\fall2022\\GIS5571\\mketreecover\\mketrecover\\mketrecover.gdb\\A200912_RH35_Resample\", \"0.001 0.001\", \"NEAREST\")\n",
    "arcpy.management.Resample(r\"clipped air quality\\A201012_RH35\", r\"C:\\Users\\swimb\\Documents\\UMN\\fall2022\\GIS5571\\mketreecover\\mketrecover\\mketrecover.gdb\\A201012_RH35_Resample\", \"0.001 0.001\", \"NEAREST\")\n",
    "arcpy.management.Resample(r\"clipped air quality\\A201112_RH35\", r\"C:\\Users\\swimb\\Documents\\UMN\\fall2022\\GIS5571\\mketreecover\\mketrecover\\mketrecover.gdb\\A201112_RH35_Resample\", \"0.001 0.001\", \"NEAREST\")\n",
    "arcpy.management.Resample(r\"clipped air quality\\A201212_RH35\", r\"C:\\Users\\swimb\\Documents\\UMN\\fall2022\\GIS5571\\mketreecover\\mketrecover\\mketrecover.gdb\\A201212_RH35_Resample\", \"0.001 0.001\", \"NEAREST\")\n",
    "arcpy.management.Resample(r\"clipped air quality\\A201312_RH35\", r\"C:\\Users\\swimb\\Documents\\UMN\\fall2022\\GIS5571\\mketreecover\\mketrecover\\mketrecover.gdb\\A201312_RH35_Resample\", \"0.001 0.001\", \"NEAREST\")\n",
    "arcpy.management.Resample(r\"clipped air quality\\A201412_RH35\", r\"C:\\Users\\swimb\\Documents\\UMN\\fall2022\\GIS5571\\mketreecover\\mketrecover\\mketrecover.gdb\\A201412_RH35_Resample\", \"0.001 0.001\", \"NEAREST\")\n",
    "arcpy.management.Resample(r\"clipped air quality\\A201512_RH35\", r\"C:\\Users\\swimb\\Documents\\UMN\\fall2022\\GIS5571\\mketreecover\\mketrecover\\mketrecover.gdb\\A201512_RH35_Resample\", \"0.001 0.001\", \"NEAREST\")\n",
    "arcpy.management.Resample(r\"clipped air quality\\A201612_RH35\", r\"C:\\Users\\swimb\\Documents\\UMN\\fall2022\\GIS5571\\mketreecover\\mketrecover\\mketrecover.gdb\\A201612_RH35_Resample\", \"0.001 0.001\", \"NEAREST\")\n",
    "arcpy.management.Resample(r\"clipped air quality\\A201712_RH35\", r\"C:\\Users\\swimb\\Documents\\UMN\\fall2022\\GIS5571\\mketreecover\\mketrecover\\mketrecover.gdb\\A201712_RH35_Resample\", \"0.001 0.001\", \"NEAREST\")\n",
    "arcpy.management.Resample(r\"clipped air quality\\A201812_RH35\", r\"C:\\Users\\swimb\\Documents\\UMN\\fall2022\\GIS5571\\mketreecover\\mketrecover\\mketrecover.gdb\\A201812_RH35_Resample\", \"0.001 0.001\", \"NEAREST\")"
   ]
  },
  {
   "cell_type": "code",
   "execution_count": null,
   "metadata": {},
   "outputs": [],
   "source": [
    "# cell stats resampled. This combined all rasters into one by taking the mean of all 18 years of data\n",
    "out_raster = arcpy.sa.CellStatistics(r\"clippedairqualityresample\\A200012_RH35_Resample;clippedairqualityresample\\A200212_RH35_Resample;clippedairqualityresample\\A200312_RH35_Resample;clippedairqualityresample\\A200412_RH35_Resample;clippedairqualityresample\\A200512_RH35_Resample;clippedairqualityresample\\A200612_RH35_Resample;clippedairqualityresample\\A200712_RH35_Resample;clippedairqualityresample\\A200812_RH35_Resample;clippedairqualityresample\\A200912_RH35_Resample;clippedairqualityresample\\A201012_RH35_Resample;clippedairqualityresample\\A201112_RH35_Resample;clippedairqualityresample\\A201212_RH35_Resample;clippedairqualityresample\\A201312_RH35_Resample;clippedairqualityresample\\A201412_RH35_Resample;clippedairqualityresample\\A201512_RH35_Resample;clippedairqualityresample\\A201612_RH35_Resample;clippedairqualityresample\\A201712_RH35_Resample;clippedairqualityresample\\A201812_RH35_Resample\", \"MEAN\", \"DATA\", \"SINGLE_BAND\", 90, \"AUTO_DETECT\"); out_raster.save(r\"C:\\Users\\swimb\\Documents\\UMN\\fall2022\\GIS5571\\mketreecover\\mketrecover\\mketrecover.gdb\\CellStats_resampled\")"
   ]
  },
  {
   "cell_type": "code",
   "execution_count": null,
   "metadata": {},
   "outputs": [],
   "source": [
    "# zonal stats as table of this data to get air quality data by census tract\n",
    "arcpy.sa.ZonalStatisticsAsTable(\"MKE_census\", \"Tract_ID_I\", \"CellStats_resampled\", r\"C:\\Users\\swimb\\Documents\\UMN\\fall2022\\GIS5571\\mketreecover\\mketrecover\\mketrecover.gdb\\ZonalStats_mke\", \"DATA\", \"MEAN\", \"CURRENT_SLICE\", [90], \"AUTO_DETECT\", \"ARITHMETIC\", 360)"
   ]
  },
  {
   "cell_type": "code",
   "execution_count": null,
   "metadata": {},
   "outputs": [],
   "source": [
    "# join to mke_census\n",
    "arcpy.management.JoinField(\"MKE_census\", \"Tract_ID_I\", \"MKE_census_SummarizeWithin\", \"Tract_ID_I\", \"MEAN\", \"NOT_USE_FM\", None)"
   ]
  },
  {
   "cell_type": "markdown",
   "metadata": {},
   "source": [
    "# Process landsat 8. Convert it to Land surface temperature raster"
   ]
  },
  {
   "cell_type": "code",
   "execution_count": null,
   "metadata": {},
   "outputs": [],
   "source": [
    "# determine NDVI\n",
    "output_raster = arcpy.sa.RasterCalculator(' Float(\"Band_5\" - \"Band_4\") / Float(\"Band_5\" +\"Band_4\")'); output_raster.save(r\"C:\\Users\\swimb\\Documents\\UMN\\fall2022\\GIS5571\\mketreecover\\mketrecover\\mketrecover.gdb\\NDVI_1\")"
   ]
  },
  {
   "cell_type": "code",
   "execution_count": null,
   "metadata": {},
   "outputs": [],
   "source": [
    "# calculate TOA\n",
    "output_raster = arcpy.sa.RasterCalculator('0.0003342 * \"Band_10\"  +  0.1'); output_raster.save(r\"C:\\Users\\swimb\\Documents\\UMN\\fall2022\\GIS5571\\mketreecover\\mketrecover\\mketrecover.gdb\\TOA_1\")"
   ]
  },
  {
   "cell_type": "code",
   "execution_count": null,
   "metadata": {},
   "outputs": [],
   "source": [
    "# calculate Brightness temperature BT\n",
    "output_raster = arcpy.sa.RasterCalculator('(1321.0789 / Ln((774.8853 / \"TOA_1\") + 1)) - 273.15'); output_raster.save(r\"C:\\Users\\swimb\\Documents\\UMN\\fall2022\\GIS5571\\mketreecover\\mketrecover\\mketrecover.gdb\\BT_1\")"
   ]
  },
  {
   "cell_type": "code",
   "execution_count": null,
   "metadata": {},
   "outputs": [],
   "source": [
    "# calculate proportion of vegetation\n",
    "output_raster = arcpy.sa.RasterCalculator(' Square((\"NDVI_1\" + 0.248754) / (0.660537 + 0.248754))'); output_raster.save(r\"C:\\Users\\swimb\\Documents\\UMN\\fall2022\\GIS5571\\mketreecover\\mketrecover\\mketrecover.gdb\\PV_1\")"
   ]
  },
  {
   "cell_type": "code",
   "execution_count": null,
   "metadata": {},
   "outputs": [],
   "source": [
    "# calcluate land surface emissivity\n",
    "output_raster = arcpy.sa.RasterCalculator('0.004 * \"PV_1\" + 0.986'); output_raster.save(r\"C:\\Users\\swimb\\Documents\\UMN\\fall2022\\GIS5571\\mketreecover\\mketrecover\\mketrecover.gdb\\EC_1\")"
   ]
  },
  {
   "cell_type": "code",
   "execution_count": null,
   "metadata": {},
   "outputs": [],
   "source": [
    "# output_raster = arcpy.sa.RasterCalculator(' (\"BT_1\" / (1 + (0.00115 * \"BT_1\" / 1.4388) * Ln(\"EC_1\")))'); output_raster.save(r\"C:\\Users\\swimb\\Documents\\UMN\\fall2022\\GIS5571\\mketreecover\\mketrecover\\mketrecover.gdb\\LST_1\")"
   ]
  },
  {
   "cell_type": "code",
   "execution_count": null,
   "metadata": {},
   "outputs": [],
   "source": [
    "# calculate land surface temperature\n",
    "output_raster = arcpy.sa.RasterCalculator(' (\"BT_1\" / (1 + (0.00115 * \"BT_1\" / 1.4388) * Ln(\"EC_1\")))'); output_raster.save(r\"C:\\Users\\swimb\\Documents\\UMN\\fall2022\\GIS5571\\mketreecover\\mketrecover\\mketrecover.gdb\\LST_1\")"
   ]
  },
  {
   "cell_type": "code",
   "execution_count": null,
   "metadata": {},
   "outputs": [],
   "source": [
    "# convert celcius to fahrenheit\n",
    "output_raster = arcpy.sa.RasterCalculator('( \"LST_1\" * (9/5)) + 32'); output_raster.save(r\"C:\\Users\\swimb\\Documents\\UMN\\fall2022\\GIS5571\\mketreecover\\mketrecover\\mketrecover.gdb\\LST_1_F\")"
   ]
  },
  {
   "cell_type": "code",
   "execution_count": null,
   "metadata": {},
   "outputs": [],
   "source": [
    "# zonal stats as table for LST\n",
    "arcpy.sa.ZonalStatisticsAsTable(\"Tree Planting Priority\", \"Tract_ID_I\", \"LST_1_F\", r\"C:\\Users\\swimb\\Documents\\UMN\\fall2022\\GIS5571\\mketreecover\\mketrecover\\mketrecover.gdb\\LST_F_Final_1\", \"DATA\", \"MEAN\", \"CURRENT_SLICE\", [90], \"AUTO_DETECT\", \"ARITHMETIC\", 360)"
   ]
  },
  {
   "cell_type": "code",
   "execution_count": null,
   "metadata": {},
   "outputs": [],
   "source": [
    "# join to MKE_Census\n",
    "arcpy.management.JoinField(\"Tree Planting Priority\", \"Tract_ID_I\", \"LST_F_Final_1\", \"Tract_ID_I\", \"MEAN\", \"NOT_USE_FM\", None)"
   ]
  },
  {
   "cell_type": "markdown",
   "metadata": {},
   "source": [
    "# Process traffic data"
   ]
  },
  {
   "cell_type": "code",
   "execution_count": null,
   "metadata": {},
   "outputs": [],
   "source": [
    "# clip data to just be in milwaukee\n",
    "arcpy.analysis.Clip(\"Traffic_Counts\", \"MKE_census\", r\"C:\\Users\\swimb\\Documents\\UMN\\fall2022\\GIS5571\\mketreecover\\mketrecover\\mketrecover.gdb\\MKETrafficCounts_12_6\", None)"
   ]
  },
  {
   "cell_type": "code",
   "execution_count": null,
   "metadata": {},
   "outputs": [],
   "source": [
    "# count number of vehicles that go by roads in each census tract\n",
    "arcpy.analysis.SummarizeWithin(\"MKE_census\", \"MKETrafficCounts\", r\"C:\\Users\\swimb\\Documents\\UMN\\fall2022\\GIS5571\\mketreecover\\mketrecover\\mketrecover.gdb\\MKE_census_SummarizeWithin\", \"KEEP_ALL\", \"Traffic1 Sum\", \"NO_SHAPE_SUM\", \"SQUAREKILOMETERS\", None, \"NO_MIN_MAJ\", \"NO_PERCENT\", None)"
   ]
  },
  {
   "cell_type": "markdown",
   "metadata": {},
   "source": [
    "# Process ACS Data"
   ]
  },
  {
   "cell_type": "code",
   "execution_count": null,
   "metadata": {},
   "outputs": [],
   "source": [
    "# join acs data to mke census layer\n",
    "arcpy.management.JoinField(\"MKE_census\", \"Tract_ID_I\", \"acs_joined_data.csv\", \"tract\", \"B05010_002E;DP03_0021E;DP03_0022E;DP03_0062E;DP05_0005E;DP05_0024E;DP05_0038E;DP05_0071E\", \"NOT_USE_FM\", None)"
   ]
  },
  {
   "cell_type": "code",
   "execution_count": null,
   "metadata": {},
   "outputs": [],
   "source": [
    "# create scatter plot showing relationship between MEDIAN HOUSEHOLD INCOME and Average percent tree canopy coverage\n",
    "# make another map showing relationship between avg percent tree canopy coverage and senior population"
   ]
  },
  {
   "cell_type": "code",
   "execution_count": null,
   "metadata": {},
   "outputs": [],
   "source": [
    "# COMPUTE PERCENTAGES FOR demographics variables. divide the variable sum of the census tract by the same varibale sum for the whole county. Manually read sum from acs data new field of SUM\n",
    "arcpy.management.CalculateField(\"MKE_census\", \"pHispanic\", \"(!HispanicPop! / 146352) * 100\", \"PYTHON3\", '', \"FLOAT\", \"NO_ENFORCE_DOMAINS\")\n",
    "arcpy.management.CalculateField(\"MKE_census\", \"pNonHspBlack\", \"(!BlackPop! / 246274) * 100\", \"PYTHON3\", '', \"FLOAT\", \"NO_ENFORCE_DOMAINS\")\n",
    "arcpy.management.CalculateField(\"MKE_census\", \"pSeniors\", \"(!F62YearsOlder! / 160413) * 100\", \"PYTHON3\", '', \"FLOAT\", \"NO_ENFORCE_DOMAINS\")\n",
    "arcpy.management.CalculateField(\"MKE_census\", \"pYoungChildren\", \"(!Under5Years! / 65114) * 100\", \"PYTHON3\", '', \"FLOAT\", \"NO_ENFORCE_DOMAINS\")\n",
    "arcpy.management.CalculateField(\"MKE_census\", \"pWalk2Work\", \"(!Walked! / 14870) * 100\", \"PYTHON3\", '', \"FLOAT\", \"NO_ENFORCE_DOMAINS\")\n",
    "arcpy.management.CalculateField(\"MKE_census\", \"pBus2Work\", \"(!PublicTransportation! / 21079) * 100\", \"PYTHON3\", '', \"FLOAT\", \"NO_ENFORCE_DOMAINS\")\n",
    "arcpy.management.CalculateField(\"MKE_census\", \"pTreeCanopy\", \"(!canopySqKm! / 96.85643883542919) * 100\", \"PYTHON3\", '', \"FLOAT\", \"NO_ENFORCE_DOMAINS\")\n",
    "arcpy.management.CalculateField(\"MKE_census\", \"pPoverty\", \"(!TotalUnderPoverty! / 32716) * 100\", \"PYTHON3\", '', \"FLOAT\", \"NO_ENFORCE_DOMAINS\")\n",
    "# made map showing relationship betwen percent poverty and percent tree canopy cover"
   ]
  },
  {
   "cell_type": "code",
   "execution_count": null,
   "metadata": {},
   "outputs": [],
   "source": [
    "# compute disparity indices. subtract variable by pTree Canopy\n",
    "arcpy.management.CalculateField(\"MKE_census\", \"DisIdxPoverty\", \"(!pPoverty! - !pTreeCanopy!)\", \"PYTHON3\", '', \"FLOAT\", \"NO_ENFORCE_DOMAINS\")\n",
    "arcpy.management.CalculateField(\"MKE_census\", \"DisIdxHispanic\", \"(!pHispanic! - !pTreeCanopy!)\", \"PYTHON3\", '', \"FLOAT\", \"NO_ENFORCE_DOMAINS\")\n",
    "arcpy.management.CalculateField(\"MKE_census\", \"DisIdxNonHspBlack\", \"(!pNonHspBlack! - !pTreeCanopy!)\", \"PYTHON3\", '', \"FLOAT\", \"NO_ENFORCE_DOMAINS\")\n",
    "arcpy.management.CalculateField(\"MKE_census\", \"DisIdxSeniors\", \"(!pSeniors! - !pTreeCanopy!)\", \"PYTHON3\", '', \"FLOAT\", \"NO_ENFORCE_DOMAINS\")\n",
    "arcpy.management.CalculateField(\"MKE_census\", \"DisIdxYoungChildren\", \"(!pYoungChildren! - !pTreeCanopy!)\", \"PYTHON3\", '', \"FLOAT\", \"NO_ENFORCE_DOMAINS\")\n",
    "arcpy.management.CalculateField(\"MKE_census\", \"DisIdxWalk2Work\", \"(!pWalk2Work! - !pTreeCanopy!)\", \"PYTHON3\", '', \"FLOAT\", \"NO_ENFORCE_DOMAINS\")\n",
    "arcpy.management.CalculateField(\"MKE_census\", \"DisIdxBus2Work\", \"(!pBus2Work! - !pTreeCanopy!)\", \"PYTHON3\", '', \"FLOAT\", \"NO_ENFORCE_DOMAINS\")\n",
    "# creat map showing relationship between african american and tree canopy cover by standard deviation"
   ]
  },
  {
   "cell_type": "markdown",
   "metadata": {},
   "source": [
    "# Third and final step: Suitability analysis\n"
   ]
  },
  {
   "cell_type": "code",
   "execution_count": null,
   "metadata": {},
   "outputs": [],
   "source": [
    "# make suitability analysis layer\n",
    "arcpy.ba.MakeSuitabilityAnalysisLayer(\"MKE_census_SummarizeWithin\", \"Tree Planting Priority1\")"
   ]
  },
  {
   "cell_type": "code",
   "execution_count": null,
   "metadata": {},
   "outputs": [],
   "source": [
    "# add field based suitability criteria\n",
    "arcpy.ba.AddFieldBasedSuitabilityCriteria(\"Tree Planting Priority\", \"AvePM25;AvgAnnDailyTraffic;AvgMaxTemp;DisIdxBus2Work;DisIdxHispanic;DisIdxNonHspBlack;DisIdxPoverty;DisIdxSeniors;DisIdxWalk2Work;DisIdxYoungChildren;percentcover\")\n"
   ]
  },
  {
   "cell_type": "markdown",
   "metadata": {},
   "source": [
    "## Apply weights in suitablity analysis using business analyst\n",
    "## Make map of this"
   ]
  },
  {
   "cell_type": "markdown",
   "metadata": {},
   "source": [
    "### allocate trees based on priority scores and the goal of 75,000 trees planted for 2023"
   ]
  },
  {
   "cell_type": "code",
   "execution_count": null,
   "metadata": {},
   "outputs": [],
   "source": [
    "# visually find the sum of the final score values using \"statistics\" in arcpro"
   ]
  },
  {
   "cell_type": "code",
   "execution_count": null,
   "metadata": {},
   "outputs": [],
   "source": [
    "# calculate the final score/ the sum of all the final scores times the number of trees to be planted (75000)\n",
    "arcpy.management.CalculateField(\"Tree Planting Priority\", \"TreesToPlant\", \"(!FinalScore! / 215.9) * 75000\", \"PYTHON3\", '', \"LONG\", \"NO_ENFORCE_DOMAINS\")"
   ]
  },
  {
   "cell_type": "code",
   "execution_count": null,
   "metadata": {},
   "outputs": [],
   "source": [
    "# join to mke census layer\n",
    "arcpy.management.JoinField(\"MKE_census_SummarizeWithin\", \"Tract_ID_I\", \"Tree Planting Priority\", \"Tract_ID_I\", \"TreesToPlant\", \"NOT_USE_FM\", None)\n",
    "# make final map"
   ]
  }
 ],
 "metadata": {
  "kernelspec": {
   "display_name": "ArcGISPro",
   "language": "Python",
   "name": "python3"
  },
  "language_info": {
   "file_extension": ".py",
   "name": "python",
   "version": "3"
  }
 },
 "nbformat": 4,
 "nbformat_minor": 2
}
