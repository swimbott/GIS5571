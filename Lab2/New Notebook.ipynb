{
 "cells": [
  {
   "cell_type": "code",
   "execution_count": 27,
   "metadata": {},
   "outputs": [],
   "source": [
    "import arcpy\n",
    "import os \n",
    "import requests\n",
    "import io\n",
    "import shutil\n",
    "import pandas as pd\n",
    "import csv\n",
    "import geopandas as gpd\n",
    "import zipfile\n",
    "import time"
   ]
  },
  {
   "cell_type": "markdown",
   "metadata": {},
   "source": [
    "## part 1.1"
   ]
  },
  {
   "cell_type": "code",
   "execution_count": 7,
   "metadata": {},
   "outputs": [],
   "source": [
    "arcpy.env.workspace = r'C:\\Users\\swimb\\Documents\\UMN\\fall2022\\GIS5571\\Lab2\\arc1_lab2_part1'"
   ]
  },
  {
   "cell_type": "code",
   "execution_count": 8,
   "metadata": {},
   "outputs": [
    {
     "data": {
      "text/plain": [
       "'C:\\\\Users\\\\swimb\\\\Documents\\\\UMN\\\\fall2022\\\\GIS5571\\\\Lab2\\\\arc1_lab2_part1'"
      ]
     },
     "execution_count": 8,
     "metadata": {},
     "output_type": "execute_result"
    }
   ],
   "source": [
    "arcpy.env.workspace"
   ]
  },
  {
   "cell_type": "code",
   "execution_count": 9,
   "metadata": {},
   "outputs": [],
   "source": [
    "# Downloads .LAS files from MN DNR\n",
    "lidar_urls = ['https://resources.gisdata.mn.gov/pub/data/elevation/lidar/examples/lidar_sample/las/4342-12-05.las','https://resources.gisdata.mn.gov/pub/data/elevation/lidar/examples/lidar_sample/las/4342-12-06.las','https://resources.gisdata.mn.gov/pub/data/elevation/lidar/examples/lidar_sample/las/4342-12-07.las','https://resources.gisdata.mn.gov/pub/data/elevation/lidar/examples/lidar_sample/las/4342-13-03.las','https://resources.gisdata.mn.gov/pub/data/elevation/lidar/examples/lidar_sample/las/4342-13-04.las','https://resources.gisdata.mn.gov/pub/data/elevation/lidar/examples/lidar_sample/las/4342-13-05.las','https://resources.gisdata.mn.gov/pub/data/elevation/lidar/examples/lidar_sample/las/4342-13-06.las','https://resources.gisdata.mn.gov/pub/data/elevation/lidar/examples/lidar_sample/las/4342-13-07.las','https://resources.gisdata.mn.gov/pub/data/elevation/lidar/examples/lidar_sample/las/4342-14-03.las','https://resources.gisdata.mn.gov/pub/data/elevation/lidar/examples/lidar_sample/las/4342-14-04.las','https://resources.gisdata.mn.gov/pub/data/elevation/lidar/examples/lidar_sample/las/4342-14-05.las','https://resources.gisdata.mn.gov/pub/data/elevation/lidar/examples/lidar_sample/las/4342-15-03.las','https://resources.gisdata.mn.gov/pub/data/elevation/lidar/examples/lidar_sample/las/4342-15-04.las','https://resources.gisdata.mn.gov/pub/data/elevation/lidar/examples/lidar_sample/las/4342-16-03.las','https://resources.gisdata.mn.gov/pub/data/elevation/lidar/examples/lidar_sample/las/4342-16-04.las']"
   ]
  },
  {
   "cell_type": "code",
   "execution_count": 10,
   "metadata": {},
   "outputs": [],
   "source": [
    "# create location to save downloaded files\n",
    "save_location = [r'C:\\Users\\swimb\\Documents\\UMN\\fall2022\\GIS5571\\Lab2\\arc1_lab2_part1\\4342-12-05.las',r'C:\\Users\\swimb\\Documents\\UMN\\fall2022\\GIS5571\\Lab2\\arc1_lab2_part1\\4342-12-06.las',r'C:\\Users\\swimb\\Documents\\UMN\\fall2022\\GIS5571\\Lab2\\arc1_lab2_part1\\4342-12-07.las',r'C:\\Users\\swimb\\Documents\\UMN\\fall2022\\GIS5571\\Lab2\\arc1_lab2_part1\\4342-13-03.las',r'C:\\Users\\swimb\\Documents\\UMN\\fall2022\\GIS5571\\Lab2\\arc1_lab2_part1\\4342-13-04.las',r'C:\\Users\\swimb\\Documents\\UMN\\fall2022\\GIS5571\\Lab2\\arc1_lab2_part1\\4342-13-05.las',r'C:\\Users\\swimb\\Documents\\UMN\\fall2022\\GIS5571\\Lab2\\arc1_lab2_part1\\4342-13-06.las',r'C:\\Users\\swimb\\Documents\\UMN\\fall2022\\GIS5571\\Lab2\\arc1_lab2_part1\\4342-13-07.las',r'C:\\Users\\swimb\\Documents\\UMN\\fall2022\\GIS5571\\Lab2\\arc1_lab2_part1\\4342-14-03.las',r'C:\\Users\\swimb\\Documents\\UMN\\fall2022\\GIS5571\\Lab2\\arc1_lab2_part1\\4342-14-04.las',r'C:\\Users\\swimb\\Documents\\UMN\\fall2022\\GIS5571\\Lab2\\arc1_lab2_part1\\4342-14-05.las',r'C:\\Users\\swimb\\Documents\\UMN\\fall2022\\GIS5571\\Lab2\\arc1_lab2_part1\\4342-15-03.las',r'C:\\Users\\swimb\\Documents\\UMN\\fall2022\\GIS5571\\Lab2\\arc1_lab2_part1\\4342-15-04.las',r'C:\\Users\\swimb\\Documents\\UMN\\fall2022\\GIS5571\\Lab2\\arc1_lab2_part1\\4342-16-03.las',r'C:\\Users\\swimb\\Documents\\UMN\\fall2022\\GIS5571\\Lab2\\arc1_lab2_part1\\4342-16-04.las']"
   ]
  },
  {
   "cell_type": "code",
   "execution_count": 11,
   "metadata": {},
   "outputs": [],
   "source": [
    "zipdata = zip(lidar_urls, save_location)"
   ]
  },
  {
   "cell_type": "code",
   "execution_count": 32,
   "metadata": {},
   "outputs": [],
   "source": [
    "# define the download_url and determine how much time it takes\n",
    "def download_url(args):\n",
    "    t0 = time.time()\n",
    "    url, fn = args[0], args[1]\n",
    "    try:\n",
    "        r = requests.get(url)\n",
    "        with open(fn, 'wb') as f:\n",
    "            f.write(r.content)\n",
    "        return(url, time.time() - t0)\n",
    "    except Exception as e:\n",
    "        print('Exception in download_url():', e)"
   ]
  },
  {
   "cell_type": "code",
   "execution_count": 12,
   "metadata": {},
   "outputs": [
    {
     "name": "stdout",
     "output_type": "stream",
     "text": [
      "('https://resources.gisdata.mn.gov/pub/data/elevation/lidar/examples/lidar_sample/las/4342-12-06.las', 'C:\\\\Users\\\\swimb\\\\Documents\\\\UMN\\\\fall2022\\\\GIS5571\\\\Lab2\\\\arc1_lab2_part1\\\\4342-12-06.las')\n",
      "url: https://resources.gisdata.mn.gov/pub/data/elevation/lidar/examples/lidar_sample/las/4342-12-06.las time: 68.52323389053345\n",
      "('https://resources.gisdata.mn.gov/pub/data/elevation/lidar/examples/lidar_sample/las/4342-12-07.las', 'C:\\\\Users\\\\swimb\\\\Documents\\\\UMN\\\\fall2022\\\\GIS5571\\\\Lab2\\\\arc1_lab2_part1\\\\4342-12-07.las')\n",
      "url: https://resources.gisdata.mn.gov/pub/data/elevation/lidar/examples/lidar_sample/las/4342-12-07.las time: 68.18907904624939\n",
      "('https://resources.gisdata.mn.gov/pub/data/elevation/lidar/examples/lidar_sample/las/4342-13-03.las', 'C:\\\\Users\\\\swimb\\\\Documents\\\\UMN\\\\fall2022\\\\GIS5571\\\\Lab2\\\\arc1_lab2_part1\\\\4342-13-03.las')\n",
      "url: https://resources.gisdata.mn.gov/pub/data/elevation/lidar/examples/lidar_sample/las/4342-13-03.las time: 59.39753198623657\n",
      "('https://resources.gisdata.mn.gov/pub/data/elevation/lidar/examples/lidar_sample/las/4342-13-04.las', 'C:\\\\Users\\\\swimb\\\\Documents\\\\UMN\\\\fall2022\\\\GIS5571\\\\Lab2\\\\arc1_lab2_part1\\\\4342-13-04.las')\n",
      "url: https://resources.gisdata.mn.gov/pub/data/elevation/lidar/examples/lidar_sample/las/4342-13-04.las time: 65.43044185638428\n",
      "('https://resources.gisdata.mn.gov/pub/data/elevation/lidar/examples/lidar_sample/las/4342-13-05.las', 'C:\\\\Users\\\\swimb\\\\Documents\\\\UMN\\\\fall2022\\\\GIS5571\\\\Lab2\\\\arc1_lab2_part1\\\\4342-13-05.las')\n",
      "url: https://resources.gisdata.mn.gov/pub/data/elevation/lidar/examples/lidar_sample/las/4342-13-05.las time: 64.22913694381714\n",
      "('https://resources.gisdata.mn.gov/pub/data/elevation/lidar/examples/lidar_sample/las/4342-13-06.las', 'C:\\\\Users\\\\swimb\\\\Documents\\\\UMN\\\\fall2022\\\\GIS5571\\\\Lab2\\\\arc1_lab2_part1\\\\4342-13-06.las')\n",
      "url: https://resources.gisdata.mn.gov/pub/data/elevation/lidar/examples/lidar_sample/las/4342-13-06.las time: 63.51188659667969\n",
      "('https://resources.gisdata.mn.gov/pub/data/elevation/lidar/examples/lidar_sample/las/4342-13-07.las', 'C:\\\\Users\\\\swimb\\\\Documents\\\\UMN\\\\fall2022\\\\GIS5571\\\\Lab2\\\\arc1_lab2_part1\\\\4342-13-07.las')\n",
      "url: https://resources.gisdata.mn.gov/pub/data/elevation/lidar/examples/lidar_sample/las/4342-13-07.las time: 59.11705780029297\n",
      "('https://resources.gisdata.mn.gov/pub/data/elevation/lidar/examples/lidar_sample/las/4342-14-03.las', 'C:\\\\Users\\\\swimb\\\\Documents\\\\UMN\\\\fall2022\\\\GIS5571\\\\Lab2\\\\arc1_lab2_part1\\\\4342-14-03.las')\n",
      "url: https://resources.gisdata.mn.gov/pub/data/elevation/lidar/examples/lidar_sample/las/4342-14-03.las time: 66.1897804737091\n",
      "('https://resources.gisdata.mn.gov/pub/data/elevation/lidar/examples/lidar_sample/las/4342-14-04.las', 'C:\\\\Users\\\\swimb\\\\Documents\\\\UMN\\\\fall2022\\\\GIS5571\\\\Lab2\\\\arc1_lab2_part1\\\\4342-14-04.las')\n",
      "url: https://resources.gisdata.mn.gov/pub/data/elevation/lidar/examples/lidar_sample/las/4342-14-04.las time: 68.94100713729858\n",
      "('https://resources.gisdata.mn.gov/pub/data/elevation/lidar/examples/lidar_sample/las/4342-14-05.las', 'C:\\\\Users\\\\swimb\\\\Documents\\\\UMN\\\\fall2022\\\\GIS5571\\\\Lab2\\\\arc1_lab2_part1\\\\4342-14-05.las')\n",
      "url: https://resources.gisdata.mn.gov/pub/data/elevation/lidar/examples/lidar_sample/las/4342-14-05.las time: 50.133907079696655\n",
      "('https://resources.gisdata.mn.gov/pub/data/elevation/lidar/examples/lidar_sample/las/4342-15-03.las', 'C:\\\\Users\\\\swimb\\\\Documents\\\\UMN\\\\fall2022\\\\GIS5571\\\\Lab2\\\\arc1_lab2_part1\\\\4342-15-03.las')\n",
      "url: https://resources.gisdata.mn.gov/pub/data/elevation/lidar/examples/lidar_sample/las/4342-15-03.las time: 68.97869396209717\n",
      "('https://resources.gisdata.mn.gov/pub/data/elevation/lidar/examples/lidar_sample/las/4342-15-04.las', 'C:\\\\Users\\\\swimb\\\\Documents\\\\UMN\\\\fall2022\\\\GIS5571\\\\Lab2\\\\arc1_lab2_part1\\\\4342-15-04.las')\n",
      "url: https://resources.gisdata.mn.gov/pub/data/elevation/lidar/examples/lidar_sample/las/4342-15-04.las time: 71.45152711868286\n",
      "('https://resources.gisdata.mn.gov/pub/data/elevation/lidar/examples/lidar_sample/las/4342-16-03.las', 'C:\\\\Users\\\\swimb\\\\Documents\\\\UMN\\\\fall2022\\\\GIS5571\\\\Lab2\\\\arc1_lab2_part1\\\\4342-16-03.las')\n",
      "url: https://resources.gisdata.mn.gov/pub/data/elevation/lidar/examples/lidar_sample/las/4342-16-03.las time: 65.36888790130615\n",
      "('https://resources.gisdata.mn.gov/pub/data/elevation/lidar/examples/lidar_sample/las/4342-16-04.las', 'C:\\\\Users\\\\swimb\\\\Documents\\\\UMN\\\\fall2022\\\\GIS5571\\\\Lab2\\\\arc1_lab2_part1\\\\4342-16-04.las')\n",
      "url: https://resources.gisdata.mn.gov/pub/data/elevation/lidar/examples/lidar_sample/las/4342-16-04.las time: 65.34069895744324\n",
      "Total time: 905.3217415809631\n"
     ]
    }
   ],
   "source": [
    "# look through data and for each layer, download it. iterate through the list\n",
    "t0 = time.time()\n",
    "for i in zipdata:\n",
    "    print(i)\n",
    "    result = download_url(i)\n",
    "    print('url:', result[0], 'time:', result[1])\n",
    "print('Total time:', time.time() - t0)"
   ]
  },
  {
   "cell_type": "code",
   "execution_count": 13,
   "metadata": {},
   "outputs": [
    {
     "data": {
      "text/html": [
       "<div class='gpresult'><h2>Messages</h2><div id='messages' data-messages='[\"Start Time: Tuesday, November 1, 2022 11:07:42 AM\",\"Succeeded at Tuesday, November 1, 2022 11:07:44 AM (Elapsed Time: 1.99 seconds)\"]' data-show='true'><div id = 'default' /></div></div>"
      ],
      "text/plain": [
       "<Result 'c:\\\\Users\\\\swimb\\\\documents\\\\UMN\\\\fall2022\\\\GIS5571\\\\Lab2\\\\arc1_lab2_part1\\\\arc1_lab2_part1.gdb\\\\c43421_lasda'>"
      ]
     },
     "execution_count": 13,
     "metadata": {},
     "output_type": "execute_result"
    }
   ],
   "source": [
    "# las to raster tool\n",
    "arcpy.conversion.LasDatasetToRaster(\"4342-16-04.las\", r\"c:\\users\\swimb\\documents\\umn\\fall2022\\gis5571\\lab2\\arc1_lab2_part1\\arc1_lab2_part1.gdb\\c43421_lasda\", \"ELEVATION\", \"BINNING AVERAGE LINEAR\", \"FLOAT\", \"CELLSIZE\", 10, 1)"
   ]
  },
  {
   "cell_type": "code",
   "execution_count": 14,
   "metadata": {},
   "outputs": [
    {
     "data": {
      "text/html": [
       "<div class='gpresult'><h2>Messages</h2><div id='messages' data-messages='[\"Start Time: Tuesday, November 1, 2022 11:07:47 AM\",\"Succeeded at Tuesday, November 1, 2022 11:07:49 AM (Elapsed Time: 1.34 seconds)\"]' data-show='true'><div id = 'default' /></div></div>"
      ],
      "text/plain": [
       "<Result 'C:\\\\Users\\\\swimb\\\\Documents\\\\UMN\\\\fall2022\\\\GIS5571\\\\Lab2\\\\arc1_lab2_part1\\\\c4342-16-04_LasDatasetToTin'>"
      ]
     },
     "execution_count": 14,
     "metadata": {},
     "output_type": "execute_result"
    }
   ],
   "source": [
    "# last to tin tool\n",
    "arcpy.ddd.LasDatasetToTin(\"4342-16-04.las\", r\"C:\\Users\\swimb\\Documents\\UMN\\fall2022\\GIS5571\\Lab2\\arc1_lab2_part1\\c4342-16-04_LasDatasetToTin\", \"RANDOM\", 15, 3.15)"
   ]
  },
  {
   "cell_type": "code",
   "execution_count": 8,
   "metadata": {},
   "outputs": [
    {
     "data": {
      "text/plain": [
       "'C:\\\\Users\\\\swimb\\\\Documents\\\\UMN\\\\fall2022\\\\GIS5571\\\\Lab2\\\\arc1_lab2_part1\\\\demexport1.pdf'"
      ]
     },
     "execution_count": 8,
     "metadata": {},
     "output_type": "execute_result"
    }
   ],
   "source": [
    "# export dem to pdf\n",
    "aprx = arcpy.mp.ArcGISProject(r'C:\\Users\\swimb\\Documents\\UMN\\fall2022\\GIS5571\\Lab2\\arc1_lab2_part1\\arc1_lab2_part1.aprx')\n",
    "lyt = aprx.listLayouts()[0]\n",
    "lyt.exportToPDF(r\"C:\\Users\\swimb\\Documents\\UMN\\fall2022\\GIS5571\\Lab2\\arc1_lab2_part1\\demexport1.pdf\", resolution = 250)"
   ]
  },
  {
   "cell_type": "code",
   "execution_count": 10,
   "metadata": {},
   "outputs": [
    {
     "data": {
      "text/plain": [
       "'C:\\\\Users\\\\swimb\\\\Documents\\\\UMN\\\\fall2022\\\\GIS5571\\\\Lab2\\\\arc1_lab2_part1\\\\tinexport1.pdf'"
      ]
     },
     "execution_count": 10,
     "metadata": {},
     "output_type": "execute_result"
    }
   ],
   "source": [
    "# export TIN to pdf\n",
    "aprx = arcpy.mp.ArcGISProject(r'C:\\Users\\swimb\\Documents\\UMN\\fall2022\\GIS5571\\Lab2\\arc1_lab2_part1\\arc1_lab2_part1.aprx')\n",
    "lyt = aprx.listLayouts()[1]\n",
    "lyt.exportToPDF(r\"C:\\Users\\swimb\\Documents\\UMN\\fall2022\\GIS5571\\Lab2\\arc1_lab2_part1\\tinexport1.pdf\", resolution = 250)"
   ]
  },
  {
   "cell_type": "markdown",
   "metadata": {},
   "source": [
    "## Part 1.3"
   ]
  },
  {
   "cell_type": "code",
   "execution_count": 28,
   "metadata": {},
   "outputs": [],
   "source": [
    "# bring data in\n",
    "prism_urls = ['https://services.nacse.org/prism/data/public/normals/4km/ppt/01','https://services.nacse.org/prism/data/public/normals/4km/ppt/02','https://services.nacse.org/prism/data/public/normals/4km/ppt/03','https://services.nacse.org/prism/data/public/normals/4km/ppt/04','https://services.nacse.org/prism/data/public/normals/4km/ppt/05','https://services.nacse.org/prism/data/public/normals/4km/ppt/06','https://services.nacse.org/prism/data/public/normals/4km/ppt/07','https://services.nacse.org/prism/data/public/normals/4km/ppt/08','https://services.nacse.org/prism/data/public/normals/4km/ppt/09','https://services.nacse.org/prism/data/public/normals/4km/ppt/10','https://services.nacse.org/prism/data/public/normals/4km/ppt/11','https://services.nacse.org/prism/data/public/normals/4km/ppt/12']"
   ]
  },
  {
   "cell_type": "code",
   "execution_count": 29,
   "metadata": {},
   "outputs": [],
   "source": [
    "# create save location\n",
    "prism_save_location = [r'C:\\Users\\swimb\\Documents\\UMN\\fall2022\\GIS5571\\Lab2\\arc1_lab2_part1\\PRISM_ppt_30yr_normal_4kmM2_01_bil.zip',r'C:\\Users\\swimb\\Documents\\UMN\\fall2022\\GIS5571\\Lab2\\arc1_lab2_part1\\PRISM_ppt_30yr_normal_4kmM2_02_bil.zip',r'C:\\Users\\swimb\\Documents\\UMN\\fall2022\\GIS5571\\Lab2\\arc1_lab2_part1\\PRISM_ppt_30yr_normal_4kmM2_03_bil.zip',r'C:\\Users\\swimb\\Documents\\UMN\\fall2022\\GIS5571\\Lab2\\arc1_lab2_part1\\PRISM_ppt_30yr_normal_4kmM2_04_bil.zip',r'C:\\Users\\swimb\\Documents\\UMN\\fall2022\\GIS5571\\Lab2\\arc1_lab2_part1\\PRISM_ppt_30yr_normal_4kmM2_05_bil.zip',r'C:\\Users\\swimb\\Documents\\UMN\\fall2022\\GIS5571\\Lab2\\arc1_lab2_part1\\PRISM_ppt_30yr_normal_4kmM2_06_bil.zip',r'C:\\Users\\swimb\\Documents\\UMN\\fall2022\\GIS5571\\Lab2\\arc1_lab2_part1\\PRISM_ppt_30yr_normal_4kmM2_07_bil.zip',r'C:\\Users\\swimb\\Documents\\UMN\\fall2022\\GIS5571\\Lab2\\arc1_lab2_part1\\PRISM_ppt_30yr_normal_4kmM2_08_bil.zip',r'C:\\Users\\swimb\\Documents\\UMN\\fall2022\\GIS5571\\Lab2\\arc1_lab2_part1\\PRISM_ppt_30yr_normal_4kmM2_09_bil.zip',r'C:\\Users\\swimb\\Documents\\UMN\\fall2022\\GIS5571\\Lab2\\arc1_lab2_part1\\PRISM_ppt_30yr_normal_4kmM2_10_bil.zip',r'C:\\Users\\swimb\\Documents\\UMN\\fall2022\\GIS5571\\Lab2\\arc1_lab2_part1\\PRISM_ppt_30yr_normal_4kmM2_11_bil.zip',r'C:\\Users\\swimb\\Documents\\UMN\\fall2022\\GIS5571\\Lab2\\arc1_lab2_part1\\PRISM_ppt_30yr_normal_4kmM2_12_bil.zip']"
   ]
  },
  {
   "cell_type": "code",
   "execution_count": 30,
   "metadata": {},
   "outputs": [],
   "source": [
    "prism_zipped = zip(prism_urls, prism_save_location)"
   ]
  },
  {
   "cell_type": "code",
   "execution_count": 34,
   "metadata": {},
   "outputs": [],
   "source": [
    "# define the download_url and determine how much time it takes\n",
    "t1 = time.time()\n",
    "for i in prism_zipped:\n",
    "    result = download_url(i)\n",
    "    print('url:', result[0], 'time:', result[1])"
   ]
  },
  {
   "cell_type": "code",
   "execution_count": 35,
   "metadata": {},
   "outputs": [
    {
     "name": "stdout",
     "output_type": "stream",
     "text": [
      "PRISM_ppt_30yr_normal_4kmM3_01_bil.bil\n",
      "PRISM_ppt_30yr_normal_4kmM3_01_bil.bil.aux.xml\n",
      "PRISM_ppt_30yr_normal_4kmM3_01_bil.hdr\n",
      "PRISM_ppt_30yr_normal_4kmM3_01_bil.info.txt\n",
      "PRISM_ppt_30yr_normal_4kmM3_01_bil.prj\n",
      "PRISM_ppt_30yr_normal_4kmM3_01_bil.stn.csv\n",
      "PRISM_ppt_30yr_normal_4kmM3_01_bil.stx\n",
      "PRISM_ppt_30yr_normal_4kmM3_01_bil.xml\n",
      "PRISM_ppt_30yr_normal_4kmM3_02_bil.bil\n",
      "PRISM_ppt_30yr_normal_4kmM3_02_bil.bil.aux.xml\n",
      "PRISM_ppt_30yr_normal_4kmM3_02_bil.hdr\n",
      "PRISM_ppt_30yr_normal_4kmM3_02_bil.info.txt\n",
      "PRISM_ppt_30yr_normal_4kmM3_02_bil.prj\n",
      "PRISM_ppt_30yr_normal_4kmM3_02_bil.stn.csv\n",
      "PRISM_ppt_30yr_normal_4kmM3_02_bil.stx\n",
      "PRISM_ppt_30yr_normal_4kmM3_02_bil.xml\n",
      "PRISM_ppt_30yr_normal_4kmM3_03_bil.bil\n",
      "PRISM_ppt_30yr_normal_4kmM3_03_bil.bil.aux.xml\n",
      "PRISM_ppt_30yr_normal_4kmM3_03_bil.hdr\n",
      "PRISM_ppt_30yr_normal_4kmM3_03_bil.info.txt\n",
      "PRISM_ppt_30yr_normal_4kmM3_03_bil.prj\n",
      "PRISM_ppt_30yr_normal_4kmM3_03_bil.stn.csv\n",
      "PRISM_ppt_30yr_normal_4kmM3_03_bil.stx\n",
      "PRISM_ppt_30yr_normal_4kmM3_03_bil.xml\n",
      "PRISM_ppt_30yr_normal_4kmM3_04_bil.bil\n",
      "PRISM_ppt_30yr_normal_4kmM3_04_bil.bil.aux.xml\n",
      "PRISM_ppt_30yr_normal_4kmM3_04_bil.hdr\n",
      "PRISM_ppt_30yr_normal_4kmM3_04_bil.info.txt\n",
      "PRISM_ppt_30yr_normal_4kmM3_04_bil.prj\n",
      "PRISM_ppt_30yr_normal_4kmM3_04_bil.stn.csv\n",
      "PRISM_ppt_30yr_normal_4kmM3_04_bil.stx\n",
      "PRISM_ppt_30yr_normal_4kmM3_04_bil.xml\n",
      "PRISM_ppt_30yr_normal_4kmM3_05_bil.bil\n",
      "PRISM_ppt_30yr_normal_4kmM3_05_bil.bil.aux.xml\n",
      "PRISM_ppt_30yr_normal_4kmM3_05_bil.hdr\n",
      "PRISM_ppt_30yr_normal_4kmM3_05_bil.info.txt\n",
      "PRISM_ppt_30yr_normal_4kmM3_05_bil.prj\n",
      "PRISM_ppt_30yr_normal_4kmM3_05_bil.stn.csv\n",
      "PRISM_ppt_30yr_normal_4kmM3_05_bil.stx\n",
      "PRISM_ppt_30yr_normal_4kmM3_05_bil.xml\n",
      "PRISM_ppt_30yr_normal_4kmM3_06_bil.bil\n",
      "PRISM_ppt_30yr_normal_4kmM3_06_bil.bil.aux.xml\n",
      "PRISM_ppt_30yr_normal_4kmM3_06_bil.hdr\n",
      "PRISM_ppt_30yr_normal_4kmM3_06_bil.info.txt\n",
      "PRISM_ppt_30yr_normal_4kmM3_06_bil.prj\n",
      "PRISM_ppt_30yr_normal_4kmM3_06_bil.stn.csv\n",
      "PRISM_ppt_30yr_normal_4kmM3_06_bil.stx\n",
      "PRISM_ppt_30yr_normal_4kmM3_06_bil.xml\n",
      "PRISM_ppt_30yr_normal_4kmM3_07_bil.bil\n",
      "PRISM_ppt_30yr_normal_4kmM3_07_bil.bil.aux.xml\n",
      "PRISM_ppt_30yr_normal_4kmM3_07_bil.hdr\n",
      "PRISM_ppt_30yr_normal_4kmM3_07_bil.info.txt\n",
      "PRISM_ppt_30yr_normal_4kmM3_07_bil.prj\n",
      "PRISM_ppt_30yr_normal_4kmM3_07_bil.stn.csv\n",
      "PRISM_ppt_30yr_normal_4kmM3_07_bil.stx\n",
      "PRISM_ppt_30yr_normal_4kmM3_07_bil.xml\n",
      "PRISM_ppt_30yr_normal_4kmM3_08_bil.bil\n",
      "PRISM_ppt_30yr_normal_4kmM3_08_bil.bil.aux.xml\n",
      "PRISM_ppt_30yr_normal_4kmM3_08_bil.hdr\n",
      "PRISM_ppt_30yr_normal_4kmM3_08_bil.info.txt\n",
      "PRISM_ppt_30yr_normal_4kmM3_08_bil.prj\n",
      "PRISM_ppt_30yr_normal_4kmM3_08_bil.stn.csv\n",
      "PRISM_ppt_30yr_normal_4kmM3_08_bil.stx\n",
      "PRISM_ppt_30yr_normal_4kmM3_08_bil.xml\n",
      "PRISM_ppt_30yr_normal_4kmM3_09_bil.bil\n",
      "PRISM_ppt_30yr_normal_4kmM3_09_bil.bil.aux.xml\n",
      "PRISM_ppt_30yr_normal_4kmM3_09_bil.hdr\n",
      "PRISM_ppt_30yr_normal_4kmM3_09_bil.info.txt\n",
      "PRISM_ppt_30yr_normal_4kmM3_09_bil.prj\n",
      "PRISM_ppt_30yr_normal_4kmM3_09_bil.stn.csv\n",
      "PRISM_ppt_30yr_normal_4kmM3_09_bil.stx\n",
      "PRISM_ppt_30yr_normal_4kmM3_09_bil.xml\n",
      "PRISM_ppt_30yr_normal_4kmM3_10_bil.bil\n",
      "PRISM_ppt_30yr_normal_4kmM3_10_bil.bil.aux.xml\n",
      "PRISM_ppt_30yr_normal_4kmM3_10_bil.hdr\n",
      "PRISM_ppt_30yr_normal_4kmM3_10_bil.info.txt\n",
      "PRISM_ppt_30yr_normal_4kmM3_10_bil.prj\n",
      "PRISM_ppt_30yr_normal_4kmM3_10_bil.stn.csv\n",
      "PRISM_ppt_30yr_normal_4kmM3_10_bil.stx\n",
      "PRISM_ppt_30yr_normal_4kmM3_10_bil.xml\n",
      "PRISM_ppt_30yr_normal_4kmM3_11_bil.bil\n",
      "PRISM_ppt_30yr_normal_4kmM3_11_bil.bil.aux.xml\n",
      "PRISM_ppt_30yr_normal_4kmM3_11_bil.hdr\n",
      "PRISM_ppt_30yr_normal_4kmM3_11_bil.info.txt\n",
      "PRISM_ppt_30yr_normal_4kmM3_11_bil.prj\n",
      "PRISM_ppt_30yr_normal_4kmM3_11_bil.stn.csv\n",
      "PRISM_ppt_30yr_normal_4kmM3_11_bil.stx\n",
      "PRISM_ppt_30yr_normal_4kmM3_11_bil.xml\n",
      "PRISM_ppt_30yr_normal_4kmM3_12_bil.bil\n",
      "PRISM_ppt_30yr_normal_4kmM3_12_bil.bil.aux.xml\n",
      "PRISM_ppt_30yr_normal_4kmM3_12_bil.hdr\n",
      "PRISM_ppt_30yr_normal_4kmM3_12_bil.info.txt\n",
      "PRISM_ppt_30yr_normal_4kmM3_12_bil.prj\n",
      "PRISM_ppt_30yr_normal_4kmM3_12_bil.stn.csv\n",
      "PRISM_ppt_30yr_normal_4kmM3_12_bil.stx\n",
      "PRISM_ppt_30yr_normal_4kmM3_12_bil.xml\n"
     ]
    }
   ],
   "source": [
    "# look through data and for each layer, download it. iterate through the list. and extract file\n",
    "dir_name = r'C:\\Users\\swimb\\Documents\\UMN\\fall2022\\GIS5571\\Lab2\\arc1_lab2_part1\\prism'\n",
    "extension = \".zip\"\n",
    "\n",
    "os.chdir(dir_name)\n",
    "\n",
    "for item in os.listdir(dir_name):\n",
    "    print(item)\n",
    "    if item.endswith(extension): # if it has zip extension\n",
    "        file_name = os.path.abspath(item) # write pathway to item\n",
    "        zip_ref = zipfile.ZipFile(file_name) # get zipped file\n",
    "        zip_ref.extractall(dir_name) # extract from zipped file\n",
    "        zip_ref.close()"
   ]
  },
  {
   "cell_type": "code",
   "execution_count": 65,
   "metadata": {},
   "outputs": [
    {
     "data": {
      "text/html": [
       "<div class='gpresult'><h2>Messages</h2><div id='messages' data-messages='[\"Start Time: Wednesday, November 2, 2022 12:01:43 AM\",\"Succeeded at Wednesday, November 2, 2022 12:01:48 AM (Elapsed Time: 4.37 seconds)\"]' data-show='true'><div id = 'default' /></div></div>"
      ],
      "text/plain": [
       "<Result 'C:\\\\Users\\\\swimb\\\\Documents\\\\UMN\\\\fall2022\\\\GIS5571\\\\Lab2\\\\arc1_lab2_part1\\\\arc1_lab2_part1.gdb\\\\pptt'>"
      ]
     },
     "execution_count": 65,
     "metadata": {},
     "output_type": "execute_result"
    }
   ],
   "source": [
    "arcpy.management.CreateMosaicDataset(r\"C:\\Users\\swimb\\Documents\\UMN\\fall2022\\GIS5571\\Lab2\\arc1_lab2_part1\\arc1_lab2_part1.gdb\", \"pptt\", 'PROJCS[\"WGS_1984_Web_Mercator_Auxiliary_Sphere\",GEOGCS[\"GCS_WGS_1984\",DATUM[\"D_WGS_1984\",SPHEROID[\"WGS_1984\",6378137.0,298.257223563]],PRIMEM[\"Greenwich\",0.0],UNIT[\"Degree\",0.0174532925199433]],PROJECTION[\"Mercator_Auxiliary_Sphere\"],PARAMETER[\"False_Easting\",0.0],PARAMETER[\"False_Northing\",0.0],PARAMETER[\"Central_Meridian\",0.0],PARAMETER[\"Standard_Parallel_1\",0.0],PARAMETER[\"Auxiliary_Sphere_Type\",0.0],UNIT[\"Meter\",1.0]]', None, '', \"NONE\", None)"
   ]
  },
  {
   "cell_type": "code",
   "execution_count": 66,
   "metadata": {},
   "outputs": [
    {
     "data": {
      "text/html": [
       "<div class='gpresult'><h2>Messages</h2><div id='messages' data-messages='[\"Start Time: Wednesday, November 2, 2022 12:04:46 AM\",\"2022-11-02T00:04:46.609: Loading raster datasets\",\"2022-11-02T00:04:46.638: Completed crawling 12 data source items. Added 12 mosaic dataset items.\",\"2022-11-02T00:04:46.641: Synchronizing crawled data source items\",\"2022-11-02T00:04:46.652: Synchronizing items associated with raster type instance &#39;Raster Dataset&#39; [ID: 2].\",\"2022-11-02T00:04:46.812: Completed synchronization: 12 items selected, 12 items synchronized.\",\"2022-11-02T00:04:46.824: Computing cell size levels\",\"2022-11-02T00:04:46.824: Computing unique cell size values\",\"2022-11-02T00:04:46.879: Computing maximum cell size values\",\"2022-11-02T00:04:46.884: Computing minimum cell size values\",\"2022-11-02T00:04:46.888: Updating visibility values of selected items\",\"2022-11-02T00:04:46.907: Computing maximum cell size for mosaic dataset\",\"2022-11-02T00:04:46.916: Completed computing cell size ranges.\",\"2022-11-02T00:04:46.943: Completed building boundary.\",\"Succeeded at Wednesday, November 2, 2022 12:04:47 AM (Elapsed Time: 1.03 seconds)\"]' data-show='true'><div id = 'default' /></div></div>"
      ],
      "text/plain": [
       "<Result 'pptt'>"
      ]
     },
     "execution_count": 66,
     "metadata": {},
     "output_type": "execute_result"
    }
   ],
   "source": [
    "arcpy.management.AddRastersToMosaicDataset(\"pptt\", \"Raster Dataset\", r\"C:\\Users\\swimb\\Documents\\UMN\\fall2022\\GIS5571\\Lab2\\arc1_lab2_part1\\prism\\PRISM_ppt_30yr_normal_4kmM3_01_bil.bil;C:\\Users\\swimb\\Documents\\UMN\\fall2022\\GIS5571\\Lab2\\arc1_lab2_part1\\prism\\PRISM_ppt_30yr_normal_4kmM3_02_bil.bil;C:\\Users\\swimb\\Documents\\UMN\\fall2022\\GIS5571\\Lab2\\arc1_lab2_part1\\prism\\PRISM_ppt_30yr_normal_4kmM3_03_bil.bil;C:\\Users\\swimb\\Documents\\UMN\\fall2022\\GIS5571\\Lab2\\arc1_lab2_part1\\prism\\PRISM_ppt_30yr_normal_4kmM3_04_bil.bil;C:\\Users\\swimb\\Documents\\UMN\\fall2022\\GIS5571\\Lab2\\arc1_lab2_part1\\prism\\PRISM_ppt_30yr_normal_4kmM3_05_bil.bil;C:\\Users\\swimb\\Documents\\UMN\\fall2022\\GIS5571\\Lab2\\arc1_lab2_part1\\prism\\PRISM_ppt_30yr_normal_4kmM3_06_bil.bil;C:\\Users\\swimb\\Documents\\UMN\\fall2022\\GIS5571\\Lab2\\arc1_lab2_part1\\prism\\PRISM_ppt_30yr_normal_4kmM3_07_bil.bil;C:\\Users\\swimb\\Documents\\UMN\\fall2022\\GIS5571\\Lab2\\arc1_lab2_part1\\prism\\PRISM_ppt_30yr_normal_4kmM3_08_bil.bil;C:\\Users\\swimb\\Documents\\UMN\\fall2022\\GIS5571\\Lab2\\arc1_lab2_part1\\prism\\PRISM_ppt_30yr_normal_4kmM3_09_bil.bil;C:\\Users\\swimb\\Documents\\UMN\\fall2022\\GIS5571\\Lab2\\arc1_lab2_part1\\prism\\PRISM_ppt_30yr_normal_4kmM3_10_bil.bil;C:\\Users\\swimb\\Documents\\UMN\\fall2022\\GIS5571\\Lab2\\arc1_lab2_part1\\prism\\PRISM_ppt_30yr_normal_4kmM3_11_bil.bil;C:\\Users\\swimb\\Documents\\UMN\\fall2022\\GIS5571\\Lab2\\arc1_lab2_part1\\prism\\PRISM_ppt_30yr_normal_4kmM3_12_bil.bil\", \"UPDATE_CELL_SIZES\", \"UPDATE_BOUNDARY\", \"NO_OVERVIEWS\", None, 0, 1500, None, '', \"SUBFOLDERS\", \"ALLOW_DUPLICATES\", \"NO_PYRAMIDS\", \"NO_STATISTICS\", \"NO_THUMBNAILS\", '', \"NO_FORCE_SPATIAL_REFERENCE\", \"NO_STATISTICS\", None, \"NO_PIXEL_CACHE\", r\"C:\\Users\\swimb\\AppData\\Local\\ESRI\\rasterproxies\\pptt\")"
   ]
  },
  {
   "cell_type": "code",
   "execution_count": 67,
   "metadata": {},
   "outputs": [
    {
     "data": {
      "text/html": [
       "<div class='gpresult'><h2>Messages</h2><div id='messages' data-messages='[\"Start Time: Wednesday, November 2, 2022 12:09:04 AM\",\"Succeeded at Wednesday, November 2, 2022 12:09:04 AM (Elapsed Time: 0.08 seconds)\"]' data-show='true'><div id = 'default' /></div></div>"
      ],
      "text/plain": [
       "<Result 'pptt\\\\Footprint'>"
      ]
     },
     "execution_count": 67,
     "metadata": {},
     "output_type": "execute_result"
    }
   ],
   "source": [
    "arcpy.management.CalculateField(r\"pptt\\Footprint\", \"Variable\", '\"pptt\"', \"PYTHON3\", '', \"TEXT\", \"NO_ENFORCE_DOMAINS\")"
   ]
  },
  {
   "cell_type": "code",
   "execution_count": 68,
   "metadata": {},
   "outputs": [
    {
     "data": {
      "text/html": [
       "<div class='gpresult'><h2>Messages</h2><div id='messages' data-messages='[\"Start Time: Wednesday, November 2, 2022 12:09:43 AM\",\"Adding Timestamp to AMD_pptt_CAT...\",\"Succeeded at Wednesday, November 2, 2022 12:09:43 AM (Elapsed Time: 0.10 seconds)\"]' data-show='true'><div id = 'default' /></div></div>"
      ],
      "text/plain": [
       "<Result 'pptt\\\\Footprint'>"
      ]
     },
     "execution_count": 68,
     "metadata": {},
     "output_type": "execute_result"
    }
   ],
   "source": [
    "arcpy.management.AddField(r\"pptt\\Footprint\", \"Timestamp\", \"DATE\")"
   ]
  },
  {
   "cell_type": "code",
   "execution_count": 69,
   "metadata": {},
   "outputs": [
    {
     "data": {
      "text/html": [
       "<div class='gpresult'><h2>Messages</h2><div id='messages' data-messages='[\"Start Time: Wednesday, November 2, 2022 12:11:44 AM\",\"Succeeded at Wednesday, November 2, 2022 12:11:44 AM (Elapsed Time: 0.11 seconds)\"]' data-show='true'><div id = 'default' /></div></div>"
      ],
      "text/plain": [
       "<Result 'pptt\\\\Footprint'>"
      ]
     },
     "execution_count": 69,
     "metadata": {},
     "output_type": "execute_result"
    }
   ],
   "source": [
    "arcpy.management.CalculateField(r\"pptt\\Footprint\", \"Timestamp\", \"DateAdd(Date(2018,0,1),$feature.OBJECTID-1,'month')\", \"ARCADE\", '', \"TEXT\")"
   ]
  },
  {
   "cell_type": "code",
   "execution_count": 70,
   "metadata": {},
   "outputs": [
    {
     "data": {
      "text/html": [
       "<div class='gpresult'><h2>Messages</h2><div id='messages' data-messages='[\"Start Time: Wednesday, November 2, 2022 12:12:40 AM\",\"Succeeded at Wednesday, November 2, 2022 12:12:41 AM (Elapsed Time: 0.82 seconds)\"]' data-show='true'><div id = 'default' /></div></div>"
      ],
      "text/plain": [
       "<Result 'pptt'>"
      ]
     },
     "execution_count": 70,
     "metadata": {},
     "output_type": "execute_result"
    }
   ],
   "source": [
    "arcpy.md.BuildMultidimensionalInfo(\"pptt\", \"Variable\", \"Timestamp # #\", None, \"NO_DELETE_MULTIDIMENSIONAL_INFO\")"
   ]
  },
  {
   "cell_type": "code",
   "execution_count": 72,
   "metadata": {},
   "outputs": [
    {
     "data": {
      "text/html": [
       "<div class='gpresult'><h2>Messages</h2><div id='messages' data-messages='[\"Start Time: Wednesday, November 2, 2022 12:15:23 AM\",\"Succeeded at Wednesday, November 2, 2022 12:15:24 AM (Elapsed Time: 1.12 seconds)\"]' data-show='true'><div id = 'default' /></div></div>"
      ],
      "text/plain": [
       "<Result 'pptt_MultidimLayer1'>"
      ]
     },
     "execution_count": 72,
     "metadata": {},
     "output_type": "execute_result"
    }
   ],
   "source": [
    "arcpy.md.MakeMultidimensionalRasterLayer(\"pptt\", \"pptt_MultidimLayer1\", \"pptt\", \"ALL\", None, None, '', '', '', None, '', '-13917257.2777 2761917.52169259 -7400428.75412497 6435460.7179 PROJCS[\"WGS_1984_Web_Mercator_Auxiliary_Sphere\",GEOGCS[\"GCS_WGS_1984\",DATUM[\"D_WGS_1984\",SPHEROID[\"WGS_1984\",6378137.0,298.257223563]],PRIMEM[\"Greenwich\",0.0],UNIT[\"Degree\",0.0174532925199433]],PROJECTION[\"Mercator_Auxiliary_Sphere\"],PARAMETER[\"False_Easting\",0.0],PARAMETER[\"False_Northing\",0.0],PARAMETER[\"Central_Meridian\",0.0],PARAMETER[\"Standard_Parallel_1\",0.0],PARAMETER[\"Auxiliary_Sphere_Type\",0.0],UNIT[\"Meter\",1.0]]', \"DIMENSIONS\", None)"
   ]
  },
  {
   "cell_type": "code",
   "execution_count": 73,
   "metadata": {},
   "outputs": [
    {
     "data": {
      "text/html": [
       "<div class='gpresult'><h2>Messages</h2><div id='messages' data-messages='[\"Start Time: Wednesday, November 2, 2022 12:16:47 AM\",\"WARNING 110442: The Input Multidimensional Raster Layer contains irregular or missing time intervals.\",\"WARNING 110013: The default Time Step Interval is 28 days.\",\"WARNING 110067: Your spatial reference is not compatible with CF Conventions.  You may experience difficulties using the resulting space-time cube with other NetCDF tools and software.\",{\"element\":\"content\",\"data\":\"The space time cube has aggregated 1016288036 points into 1112760 fishnet grid locations over 24 time step intervals.  Each location is a 4638.31 meters by 4638.31 meters square.  The entire space time cube spans an area 6516828.52 meters west to east and 3673543.2 meters north to south.  Each of the time step intervals is 28 days in duration so the entire time period covered by the space time cube is 672 days.  Of the 1112760 total locations, 629919 (56.61%) contain at least one point for at least one time step interval.  These 629919 locations comprise 15118056 space time bins of which 26699516 (176.61%) have point counts greater than zero.  There is not a statistically significant increase or decrease in point counts over time.\"},[{\"element\":\"table\",\"data\":[[{\"data\":\"Input feature time extent\",\"prop\":{\"rowspan\":2}},\"2018-01-01 06:00:00\"],[{\"data\":\"to 2019-12-01 06:00:00\",\"prop\":{\"text-align\":\"right\"}}],[\"\",\"\"],[\"Number of time steps\",\"24\"],[\"Time step interval\",\"28 days\"],[\"Time step alignment\",\"End\"],[\"\",\"\"],[\"First time step temporal bias\",\"100.00%\"],[{\"data\":\"First time step interval\",\"prop\":{\"rowspan\":4}},\"after\"],[{\"data\":\"2017-12-04 06:00:00\",\"prop\":{\"text-align\":\"right\"}}],[{\"data\":\"to on or before\",\"prop\":{\"text-align\":\"right\"}}],[{\"data\":\"2018-01-01 06:00:00\",\"prop\":{\"text-align\":\"right\"}}],[\"\",\"\"],[\"Last time step temporal bias\",\"0.00%\"],[{\"data\":\"Last time step interval\",\"prop\":{\"rowspan\":4}},\"after\"],[{\"data\":\"2019-11-01 05:00:00\",\"prop\":{\"text-align\":\"right\"}}],[{\"data\":\"to on or before\",\"prop\":{\"text-align\":\"right\"}}],[{\"data\":\"2019-12-01 06:00:00\",\"prop\":{\"text-align\":\"right\"}}],[\"\",\"\"],[\"Coordinate System\",\"WGS 1984 Web Mercator Auxiliary Sphere\"],[\"Cube extent across space\",\"(coordinates in meters)\"],[\"Min X\",\"-13917257.2777\"],[\"Min Y\",\"2761917.5217\"],[\"Max X\",\"-7400428.7541\"],[\"Max Y\",\"6435460.7179\"],[\"Rows\",\"792\"],[\"Columns\",\"1405\"],[\"Total bins\",\"26706240\"]],\"elementProps\":{\"striped\":\"true\",\"noHeader\":true,\"title\":\"Space Time Cube Characteristics\",\"0\":{\"align\":\"left\",\"pad\":\"0px\",\"wrap\":true},\"1\":{\"align\":\"right\",\"pad\":\"0px\",\"wrap\":true}}}],[{\"element\":\"table\",\"data\":[[\"% of locations excluded due to unfilled bins\",\"482841 (  43.39%)\"],[\"- Total number\",\"482841\"],[\"Total number of locations\",\"629919\"],[\"- associated bins\",\"15118056\"],[\"% of included locations with estimated bins\",\"  2.71%\"],[\"- Total number\",\"17097\"],[\"% of all bins that were estimated\",\"  0.30%\"],[\"- Total number\",\"46096\"]],\"elementProps\":{\"striped\":\"true\",\"title\":\"Summary Field - PPTT_NONE_ZEROS\",\"0\":{\"align\":\"left\",\"pad\":\"0px\",\"wrap\":true},\"1\":{\"align\":\"right\",\"pad\":\"0px\",\"wrap\":true}}}],[{\"element\":\"table\",\"data\":[[\"Trend direction\",\"Not Significant\"],[\"Trend statistic\",\"0.0000\"],[\"Trend p-value\",\"1.0000\"]],\"elementProps\":{\"striped\":\"true\",\"noHeader\":true,\"title\":\"Overall Data Trend - PPTT_NONE_ZEROS\",\"0\":{\"align\":\"left\",\"pad\":\"0px\",\"wrap\":true},\"1\":{\"align\":\"right\",\"pad\":\"0px\",\"wrap\":true}}}],\"Succeeded at Wednesday, November 2, 2022 12:17:20 AM (Elapsed Time: 32.54 seconds)\"]' data-show='true'><div id = 'default' /></div></div>"
      ],
      "text/plain": [
       "<Result 'C:\\\\Users\\\\swimb\\\\Documents\\\\UMN\\\\fall2022\\\\GIS5571\\\\Lab2\\\\arc1_lab2_part1\\\\pptt_timecube.nc'>"
      ]
     },
     "execution_count": 73,
     "metadata": {},
     "output_type": "execute_result"
    }
   ],
   "source": [
    "arcpy.stpm.CreateSpaceTimeCubeMDRasterLayer(\"pptt_MultidimLayer1\", r\"C:\\Users\\swimb\\Documents\\UMN\\fall2022\\GIS5571\\Lab2\\arc1_lab2_part1\\pptt_timecube.nc\", \"ZEROS\")"
   ]
  },
  {
   "cell_type": "code",
   "execution_count": null,
   "metadata": {},
   "outputs": [],
   "source": [
    "# could not get to run in notebooks, used arcpro\n",
    "arcpy.stpm.VisualizeSpaceTimeCube3D(r\"C:\\Users\\swimb\\Documents\\UMN\\fall2022\\GIS5571\\Lab2\\arc1_lab2_part1\\pptt_timecube.nc\", \"PPTT_NONE_ZEROS\", \"VALUE\", r\"C:\\Users\\swimb\\Documents\\UMN\\fall2022\\GIS5571\\Lab2\\arc1_lab2_part1\\arc1_lab2_part1.gdb\\pptt_timecube_VisualizeSpaceTimeCube3D\")"
   ]
  },
  {
   "cell_type": "code",
   "execution_count": null,
   "metadata": {},
   "outputs": [],
   "source": []
  },
  {
   "cell_type": "code",
   "execution_count": null,
   "metadata": {},
   "outputs": [],
   "source": []
  }
 ],
 "metadata": {
  "kernelspec": {
   "display_name": "ArcGISPro",
   "language": "Python",
   "name": "python3"
  },
  "language_info": {
   "file_extension": ".py",
   "name": "python",
   "version": "3"
  }
 },
 "nbformat": 4,
 "nbformat_minor": 2
}
